{
 "cells": [
  {
   "cell_type": "markdown",
   "id": "ae623d3f-ab77-4739-b21c-ddd23b0d761f",
   "metadata": {
    "tags": []
   },
   "source": [
    "![alt text][logo]\n",
    "\n",
    "[logo]:download2.jfif\n",
    "# SPACESHIP TITANIC \n",
    "##### This dataset was obtained from a kaggle competion, [**spaceship titanic**](https://www.kaggle.com/c/spaceship-titanic).\n",
    "---\n",
    "\n",
    "The dataset contains information about passengers onboard a titatic spaceship that collided with a spacetime anomaly hidden within a dust cloud.\n",
    "Upon collison half of the passengers were transported to an alternate dimension.\n",
    "\n",
    "The objective of the challenge is to predict which passengers were transported by the anomaly using records recovered from the spaceship’s damaged\n",
    "computer system. This will help the rescue crews and retrieve the lost passengers\n",
    "\n",
    "**This project will follow the following steps:**\n",
    "\n",
    "**Step 1:** Importing Modules\n",
    "\n",
    "**Step 2:** Loading Data\n",
    "\n",
    "**Step 3:** Understanding the Data\n",
    "\n",
    "**Step 4:** Data Cleaning and Wrangling\n",
    "\n",
    "**Step 5:** Exploratory Data Analysis and Feature Engineering\n",
    "\n",
    "**Step 6:** Model Selection, Evaluation and Refinement\n"
   ]
  },
  {
   "cell_type": "markdown",
   "id": "87927540-74fa-41de-b66b-8000a918d7f9",
   "metadata": {},
   "source": [
    "## STEP 1: Importing required modules for data analysis\n",
    "---"
   ]
  },
  {
   "cell_type": "code",
   "execution_count": 1,
   "id": "c68ad5fb-0d92-4831-8687-6b191ef7d670",
   "metadata": {
    "tags": []
   },
   "outputs": [],
   "source": [
    "import pandas as pd\n",
    "import numpy as np\n",
    "from scipy import stats\n",
    "import matplotlib.pyplot as plt\n",
    "import seaborn as sns\n",
    "%matplotlib inline"
   ]
  },
  {
   "cell_type": "markdown",
   "id": "eefaa6ed-1b78-49da-8daa-4272490fe089",
   "metadata": {},
   "source": [
    "## STEP 2: Loading the data\n",
    "---"
   ]
  },
  {
   "cell_type": "code",
   "execution_count": 2,
   "id": "0a59a8a0-190f-4ed2-bb6d-c44ae999fa13",
   "metadata": {
    "tags": []
   },
   "outputs": [],
   "source": [
    "train_data = pd.read_csv(\"train.csv\")\n",
    "test_data = pd.read_csv('test.csv')"
   ]
  },
  {
   "cell_type": "code",
   "execution_count": 3,
   "id": "58683fce-a5d1-46be-a067-821cec6b7fe5",
   "metadata": {
    "tags": []
   },
   "outputs": [
    {
     "data": {
      "text/html": [
       "<div>\n",
       "<style scoped>\n",
       "    .dataframe tbody tr th:only-of-type {\n",
       "        vertical-align: middle;\n",
       "    }\n",
       "\n",
       "    .dataframe tbody tr th {\n",
       "        vertical-align: top;\n",
       "    }\n",
       "\n",
       "    .dataframe thead th {\n",
       "        text-align: right;\n",
       "    }\n",
       "</style>\n",
       "<table border=\"1\" class=\"dataframe\">\n",
       "  <thead>\n",
       "    <tr style=\"text-align: right;\">\n",
       "      <th></th>\n",
       "      <th>PassengerId</th>\n",
       "      <th>HomePlanet</th>\n",
       "      <th>CryoSleep</th>\n",
       "      <th>Cabin</th>\n",
       "      <th>Destination</th>\n",
       "      <th>Age</th>\n",
       "      <th>VIP</th>\n",
       "      <th>RoomService</th>\n",
       "      <th>FoodCourt</th>\n",
       "      <th>ShoppingMall</th>\n",
       "      <th>Spa</th>\n",
       "      <th>VRDeck</th>\n",
       "      <th>Name</th>\n",
       "      <th>Transported</th>\n",
       "    </tr>\n",
       "  </thead>\n",
       "  <tbody>\n",
       "    <tr>\n",
       "      <th>0</th>\n",
       "      <td>0001_01</td>\n",
       "      <td>Europa</td>\n",
       "      <td>False</td>\n",
       "      <td>B/0/P</td>\n",
       "      <td>TRAPPIST-1e</td>\n",
       "      <td>39.0</td>\n",
       "      <td>False</td>\n",
       "      <td>0.0</td>\n",
       "      <td>0.0</td>\n",
       "      <td>0.0</td>\n",
       "      <td>0.0</td>\n",
       "      <td>0.0</td>\n",
       "      <td>Maham Ofracculy</td>\n",
       "      <td>False</td>\n",
       "    </tr>\n",
       "    <tr>\n",
       "      <th>1</th>\n",
       "      <td>0002_01</td>\n",
       "      <td>Earth</td>\n",
       "      <td>False</td>\n",
       "      <td>F/0/S</td>\n",
       "      <td>TRAPPIST-1e</td>\n",
       "      <td>24.0</td>\n",
       "      <td>False</td>\n",
       "      <td>109.0</td>\n",
       "      <td>9.0</td>\n",
       "      <td>25.0</td>\n",
       "      <td>549.0</td>\n",
       "      <td>44.0</td>\n",
       "      <td>Juanna Vines</td>\n",
       "      <td>True</td>\n",
       "    </tr>\n",
       "    <tr>\n",
       "      <th>2</th>\n",
       "      <td>0003_01</td>\n",
       "      <td>Europa</td>\n",
       "      <td>False</td>\n",
       "      <td>A/0/S</td>\n",
       "      <td>TRAPPIST-1e</td>\n",
       "      <td>58.0</td>\n",
       "      <td>True</td>\n",
       "      <td>43.0</td>\n",
       "      <td>3576.0</td>\n",
       "      <td>0.0</td>\n",
       "      <td>6715.0</td>\n",
       "      <td>49.0</td>\n",
       "      <td>Altark Susent</td>\n",
       "      <td>False</td>\n",
       "    </tr>\n",
       "    <tr>\n",
       "      <th>3</th>\n",
       "      <td>0003_02</td>\n",
       "      <td>Europa</td>\n",
       "      <td>False</td>\n",
       "      <td>A/0/S</td>\n",
       "      <td>TRAPPIST-1e</td>\n",
       "      <td>33.0</td>\n",
       "      <td>False</td>\n",
       "      <td>0.0</td>\n",
       "      <td>1283.0</td>\n",
       "      <td>371.0</td>\n",
       "      <td>3329.0</td>\n",
       "      <td>193.0</td>\n",
       "      <td>Solam Susent</td>\n",
       "      <td>False</td>\n",
       "    </tr>\n",
       "    <tr>\n",
       "      <th>4</th>\n",
       "      <td>0004_01</td>\n",
       "      <td>Earth</td>\n",
       "      <td>False</td>\n",
       "      <td>F/1/S</td>\n",
       "      <td>TRAPPIST-1e</td>\n",
       "      <td>16.0</td>\n",
       "      <td>False</td>\n",
       "      <td>303.0</td>\n",
       "      <td>70.0</td>\n",
       "      <td>151.0</td>\n",
       "      <td>565.0</td>\n",
       "      <td>2.0</td>\n",
       "      <td>Willy Santantines</td>\n",
       "      <td>True</td>\n",
       "    </tr>\n",
       "  </tbody>\n",
       "</table>\n",
       "</div>"
      ],
      "text/plain": [
       "  PassengerId HomePlanet CryoSleep  Cabin  Destination   Age    VIP  \\\n",
       "0     0001_01     Europa     False  B/0/P  TRAPPIST-1e  39.0  False   \n",
       "1     0002_01      Earth     False  F/0/S  TRAPPIST-1e  24.0  False   \n",
       "2     0003_01     Europa     False  A/0/S  TRAPPIST-1e  58.0   True   \n",
       "3     0003_02     Europa     False  A/0/S  TRAPPIST-1e  33.0  False   \n",
       "4     0004_01      Earth     False  F/1/S  TRAPPIST-1e  16.0  False   \n",
       "\n",
       "   RoomService  FoodCourt  ShoppingMall     Spa  VRDeck               Name  \\\n",
       "0          0.0        0.0           0.0     0.0     0.0    Maham Ofracculy   \n",
       "1        109.0        9.0          25.0   549.0    44.0       Juanna Vines   \n",
       "2         43.0     3576.0           0.0  6715.0    49.0      Altark Susent   \n",
       "3          0.0     1283.0         371.0  3329.0   193.0       Solam Susent   \n",
       "4        303.0       70.0         151.0   565.0     2.0  Willy Santantines   \n",
       "\n",
       "   Transported  \n",
       "0        False  \n",
       "1         True  \n",
       "2        False  \n",
       "3        False  \n",
       "4         True  "
      ]
     },
     "execution_count": 3,
     "metadata": {},
     "output_type": "execute_result"
    }
   ],
   "source": [
    "train_data.head()"
   ]
  },
  {
   "cell_type": "code",
   "execution_count": 4,
   "id": "def4ed9e-e89d-4007-bf03-e28da9e64c07",
   "metadata": {
    "tags": []
   },
   "outputs": [
    {
     "data": {
      "text/html": [
       "<div>\n",
       "<style scoped>\n",
       "    .dataframe tbody tr th:only-of-type {\n",
       "        vertical-align: middle;\n",
       "    }\n",
       "\n",
       "    .dataframe tbody tr th {\n",
       "        vertical-align: top;\n",
       "    }\n",
       "\n",
       "    .dataframe thead th {\n",
       "        text-align: right;\n",
       "    }\n",
       "</style>\n",
       "<table border=\"1\" class=\"dataframe\">\n",
       "  <thead>\n",
       "    <tr style=\"text-align: right;\">\n",
       "      <th></th>\n",
       "      <th>PassengerId</th>\n",
       "      <th>HomePlanet</th>\n",
       "      <th>CryoSleep</th>\n",
       "      <th>Cabin</th>\n",
       "      <th>Destination</th>\n",
       "      <th>Age</th>\n",
       "      <th>VIP</th>\n",
       "      <th>RoomService</th>\n",
       "      <th>FoodCourt</th>\n",
       "      <th>ShoppingMall</th>\n",
       "      <th>Spa</th>\n",
       "      <th>VRDeck</th>\n",
       "      <th>Name</th>\n",
       "    </tr>\n",
       "  </thead>\n",
       "  <tbody>\n",
       "    <tr>\n",
       "      <th>0</th>\n",
       "      <td>0013_01</td>\n",
       "      <td>Earth</td>\n",
       "      <td>True</td>\n",
       "      <td>G/3/S</td>\n",
       "      <td>TRAPPIST-1e</td>\n",
       "      <td>27.0</td>\n",
       "      <td>False</td>\n",
       "      <td>0.0</td>\n",
       "      <td>0.0</td>\n",
       "      <td>0.0</td>\n",
       "      <td>0.0</td>\n",
       "      <td>0.0</td>\n",
       "      <td>Nelly Carsoning</td>\n",
       "    </tr>\n",
       "    <tr>\n",
       "      <th>1</th>\n",
       "      <td>0018_01</td>\n",
       "      <td>Earth</td>\n",
       "      <td>False</td>\n",
       "      <td>F/4/S</td>\n",
       "      <td>TRAPPIST-1e</td>\n",
       "      <td>19.0</td>\n",
       "      <td>False</td>\n",
       "      <td>0.0</td>\n",
       "      <td>9.0</td>\n",
       "      <td>0.0</td>\n",
       "      <td>2823.0</td>\n",
       "      <td>0.0</td>\n",
       "      <td>Lerome Peckers</td>\n",
       "    </tr>\n",
       "    <tr>\n",
       "      <th>2</th>\n",
       "      <td>0019_01</td>\n",
       "      <td>Europa</td>\n",
       "      <td>True</td>\n",
       "      <td>C/0/S</td>\n",
       "      <td>55 Cancri e</td>\n",
       "      <td>31.0</td>\n",
       "      <td>False</td>\n",
       "      <td>0.0</td>\n",
       "      <td>0.0</td>\n",
       "      <td>0.0</td>\n",
       "      <td>0.0</td>\n",
       "      <td>0.0</td>\n",
       "      <td>Sabih Unhearfus</td>\n",
       "    </tr>\n",
       "    <tr>\n",
       "      <th>3</th>\n",
       "      <td>0021_01</td>\n",
       "      <td>Europa</td>\n",
       "      <td>False</td>\n",
       "      <td>C/1/S</td>\n",
       "      <td>TRAPPIST-1e</td>\n",
       "      <td>38.0</td>\n",
       "      <td>False</td>\n",
       "      <td>0.0</td>\n",
       "      <td>6652.0</td>\n",
       "      <td>0.0</td>\n",
       "      <td>181.0</td>\n",
       "      <td>585.0</td>\n",
       "      <td>Meratz Caltilter</td>\n",
       "    </tr>\n",
       "    <tr>\n",
       "      <th>4</th>\n",
       "      <td>0023_01</td>\n",
       "      <td>Earth</td>\n",
       "      <td>False</td>\n",
       "      <td>F/5/S</td>\n",
       "      <td>TRAPPIST-1e</td>\n",
       "      <td>20.0</td>\n",
       "      <td>False</td>\n",
       "      <td>10.0</td>\n",
       "      <td>0.0</td>\n",
       "      <td>635.0</td>\n",
       "      <td>0.0</td>\n",
       "      <td>0.0</td>\n",
       "      <td>Brence Harperez</td>\n",
       "    </tr>\n",
       "  </tbody>\n",
       "</table>\n",
       "</div>"
      ],
      "text/plain": [
       "  PassengerId HomePlanet CryoSleep  Cabin  Destination   Age    VIP  \\\n",
       "0     0013_01      Earth      True  G/3/S  TRAPPIST-1e  27.0  False   \n",
       "1     0018_01      Earth     False  F/4/S  TRAPPIST-1e  19.0  False   \n",
       "2     0019_01     Europa      True  C/0/S  55 Cancri e  31.0  False   \n",
       "3     0021_01     Europa     False  C/1/S  TRAPPIST-1e  38.0  False   \n",
       "4     0023_01      Earth     False  F/5/S  TRAPPIST-1e  20.0  False   \n",
       "\n",
       "   RoomService  FoodCourt  ShoppingMall     Spa  VRDeck              Name  \n",
       "0          0.0        0.0           0.0     0.0     0.0   Nelly Carsoning  \n",
       "1          0.0        9.0           0.0  2823.0     0.0    Lerome Peckers  \n",
       "2          0.0        0.0           0.0     0.0     0.0   Sabih Unhearfus  \n",
       "3          0.0     6652.0           0.0   181.0   585.0  Meratz Caltilter  \n",
       "4         10.0        0.0         635.0     0.0     0.0   Brence Harperez  "
      ]
     },
     "execution_count": 4,
     "metadata": {},
     "output_type": "execute_result"
    }
   ],
   "source": [
    "test_data.head()"
   ]
  },
  {
   "cell_type": "markdown",
   "id": "9a6a70a4-6c6a-44f5-abe2-ec8f70c83153",
   "metadata": {},
   "source": [
    "## STEP 3: Understanding the imported data\n",
    "---\n",
    "**PassengerId -->** A unique Id for each passenger. Each Id takes the form gggg_pp where gggg indicates a group the passenger is travelling with and pp is their number within the group.\n",
    "People in a group are often family members, but not always.\n",
    "                \n",
    "**HomePlanet -->** The planet the passenger departed from, typically their planet of permanent residence.\n",
    "\n",
    "**CryoSleep -->** Indicates whether the passenger elected to be put into suspended animation for the duration of the voyage. Passengers in cryosleep are confined to their cabins.\n",
    "\n",
    "**Cabin -->** The cabin number where the passenger is staying. Takes the form deck/num/side, where side can be either P for Port or S for Starboard.\n",
    "\n",
    "**Destination -->** The planet the passenger will be debarking to.\n",
    "\n",
    "**Age -->** The age of the passenger.\n",
    "\n",
    "**VIP -->** Whether the passenger has paid for special VIP service during the voyage.\n",
    "\n",
    "**RoomService, FoodCourt, ShoppingMall, Spa, VRDeck -->** Amount the passenger has billed at each of the Spaceship Titanic's many luxury amenities.\n",
    "\n",
    "**Name -->** The first and last names of the passenger.\n",
    "\n",
    "**Transported -->** Whether the passenger was transported to another dimension. This is the target, the column you are trying to predict."
   ]
  },
  {
   "cell_type": "markdown",
   "id": "c345422b-ee30-42c5-8d4e-3cc1545e657c",
   "metadata": {},
   "source": [
    "## STEP 4: Data Cleaning/Wrangling\n",
    "---\n",
    "The following steps will be folowed during data cleaning\n",
    "1. Handling missing values\n",
    "2. Data formating and Standardization\n",
    "3. Data Normalization\n",
    "4. Binning"
   ]
  },
  {
   "cell_type": "markdown",
   "id": "74e63f4a-6516-47d5-88e8-ceaa2ace6c06",
   "metadata": {},
   "source": [
    "### STEP 4.1: Handling Missing Values\n",
    "---"
   ]
  },
  {
   "cell_type": "code",
   "execution_count": 5,
   "id": "2d4bf627-9949-4219-9cf9-db2c4d751856",
   "metadata": {
    "tags": []
   },
   "outputs": [
    {
     "name": "stdout",
     "output_type": "stream",
     "text": [
      "<class 'pandas.core.frame.DataFrame'>\n",
      "RangeIndex: 8693 entries, 0 to 8692\n",
      "Data columns (total 14 columns):\n",
      " #   Column        Non-Null Count  Dtype  \n",
      "---  ------        --------------  -----  \n",
      " 0   PassengerId   8693 non-null   object \n",
      " 1   HomePlanet    8492 non-null   object \n",
      " 2   CryoSleep     8476 non-null   object \n",
      " 3   Cabin         8494 non-null   object \n",
      " 4   Destination   8511 non-null   object \n",
      " 5   Age           8514 non-null   float64\n",
      " 6   VIP           8490 non-null   object \n",
      " 7   RoomService   8512 non-null   float64\n",
      " 8   FoodCourt     8510 non-null   float64\n",
      " 9   ShoppingMall  8485 non-null   float64\n",
      " 10  Spa           8510 non-null   float64\n",
      " 11  VRDeck        8505 non-null   float64\n",
      " 12  Name          8493 non-null   object \n",
      " 13  Transported   8693 non-null   bool   \n",
      "dtypes: bool(1), float64(6), object(7)\n",
      "memory usage: 891.5+ KB\n"
     ]
    }
   ],
   "source": [
    "train_data.info()"
   ]
  },
  {
   "cell_type": "code",
   "execution_count": 6,
   "id": "924125f1-3002-4fec-bf25-250f34341800",
   "metadata": {
    "tags": []
   },
   "outputs": [
    {
     "name": "stdout",
     "output_type": "stream",
     "text": [
      "<class 'pandas.core.frame.DataFrame'>\n",
      "RangeIndex: 4277 entries, 0 to 4276\n",
      "Data columns (total 13 columns):\n",
      " #   Column        Non-Null Count  Dtype  \n",
      "---  ------        --------------  -----  \n",
      " 0   PassengerId   4277 non-null   object \n",
      " 1   HomePlanet    4190 non-null   object \n",
      " 2   CryoSleep     4184 non-null   object \n",
      " 3   Cabin         4177 non-null   object \n",
      " 4   Destination   4185 non-null   object \n",
      " 5   Age           4186 non-null   float64\n",
      " 6   VIP           4184 non-null   object \n",
      " 7   RoomService   4195 non-null   float64\n",
      " 8   FoodCourt     4171 non-null   float64\n",
      " 9   ShoppingMall  4179 non-null   float64\n",
      " 10  Spa           4176 non-null   float64\n",
      " 11  VRDeck        4197 non-null   float64\n",
      " 12  Name          4183 non-null   object \n",
      "dtypes: float64(6), object(7)\n",
      "memory usage: 434.5+ KB\n"
     ]
    }
   ],
   "source": [
    "test_data.info()"
   ]
  },
  {
   "cell_type": "code",
   "execution_count": 7,
   "id": "5b66af45-fa9a-4392-80ce-6db994383196",
   "metadata": {
    "tags": []
   },
   "outputs": [
    {
     "data": {
      "text/html": [
       "<div>\n",
       "<style scoped>\n",
       "    .dataframe tbody tr th:only-of-type {\n",
       "        vertical-align: middle;\n",
       "    }\n",
       "\n",
       "    .dataframe tbody tr th {\n",
       "        vertical-align: top;\n",
       "    }\n",
       "\n",
       "    .dataframe thead th {\n",
       "        text-align: right;\n",
       "    }\n",
       "</style>\n",
       "<table border=\"1\" class=\"dataframe\">\n",
       "  <thead>\n",
       "    <tr style=\"text-align: right;\">\n",
       "      <th></th>\n",
       "      <th>PassengerId</th>\n",
       "      <th>HomePlanet</th>\n",
       "      <th>CryoSleep</th>\n",
       "      <th>Cabin</th>\n",
       "      <th>Destination</th>\n",
       "      <th>Age</th>\n",
       "      <th>VIP</th>\n",
       "      <th>RoomService</th>\n",
       "      <th>FoodCourt</th>\n",
       "      <th>ShoppingMall</th>\n",
       "      <th>Spa</th>\n",
       "      <th>VRDeck</th>\n",
       "      <th>Name</th>\n",
       "      <th>Transported</th>\n",
       "    </tr>\n",
       "  </thead>\n",
       "  <tbody>\n",
       "    <tr>\n",
       "      <th>0</th>\n",
       "      <td>False</td>\n",
       "      <td>False</td>\n",
       "      <td>False</td>\n",
       "      <td>False</td>\n",
       "      <td>False</td>\n",
       "      <td>False</td>\n",
       "      <td>False</td>\n",
       "      <td>False</td>\n",
       "      <td>False</td>\n",
       "      <td>False</td>\n",
       "      <td>False</td>\n",
       "      <td>False</td>\n",
       "      <td>False</td>\n",
       "      <td>False</td>\n",
       "    </tr>\n",
       "    <tr>\n",
       "      <th>1</th>\n",
       "      <td>False</td>\n",
       "      <td>False</td>\n",
       "      <td>False</td>\n",
       "      <td>False</td>\n",
       "      <td>False</td>\n",
       "      <td>False</td>\n",
       "      <td>False</td>\n",
       "      <td>False</td>\n",
       "      <td>False</td>\n",
       "      <td>False</td>\n",
       "      <td>False</td>\n",
       "      <td>False</td>\n",
       "      <td>False</td>\n",
       "      <td>False</td>\n",
       "    </tr>\n",
       "    <tr>\n",
       "      <th>2</th>\n",
       "      <td>False</td>\n",
       "      <td>False</td>\n",
       "      <td>False</td>\n",
       "      <td>False</td>\n",
       "      <td>False</td>\n",
       "      <td>False</td>\n",
       "      <td>False</td>\n",
       "      <td>False</td>\n",
       "      <td>False</td>\n",
       "      <td>False</td>\n",
       "      <td>False</td>\n",
       "      <td>False</td>\n",
       "      <td>False</td>\n",
       "      <td>False</td>\n",
       "    </tr>\n",
       "    <tr>\n",
       "      <th>3</th>\n",
       "      <td>False</td>\n",
       "      <td>False</td>\n",
       "      <td>False</td>\n",
       "      <td>False</td>\n",
       "      <td>False</td>\n",
       "      <td>False</td>\n",
       "      <td>False</td>\n",
       "      <td>False</td>\n",
       "      <td>False</td>\n",
       "      <td>False</td>\n",
       "      <td>False</td>\n",
       "      <td>False</td>\n",
       "      <td>False</td>\n",
       "      <td>False</td>\n",
       "    </tr>\n",
       "    <tr>\n",
       "      <th>4</th>\n",
       "      <td>False</td>\n",
       "      <td>False</td>\n",
       "      <td>False</td>\n",
       "      <td>False</td>\n",
       "      <td>False</td>\n",
       "      <td>False</td>\n",
       "      <td>False</td>\n",
       "      <td>False</td>\n",
       "      <td>False</td>\n",
       "      <td>False</td>\n",
       "      <td>False</td>\n",
       "      <td>False</td>\n",
       "      <td>False</td>\n",
       "      <td>False</td>\n",
       "    </tr>\n",
       "  </tbody>\n",
       "</table>\n",
       "</div>"
      ],
      "text/plain": [
       "   PassengerId  HomePlanet  CryoSleep  Cabin  Destination    Age    VIP  \\\n",
       "0        False       False      False  False        False  False  False   \n",
       "1        False       False      False  False        False  False  False   \n",
       "2        False       False      False  False        False  False  False   \n",
       "3        False       False      False  False        False  False  False   \n",
       "4        False       False      False  False        False  False  False   \n",
       "\n",
       "   RoomService  FoodCourt  ShoppingMall    Spa  VRDeck   Name  Transported  \n",
       "0        False      False         False  False   False  False        False  \n",
       "1        False      False         False  False   False  False        False  \n",
       "2        False      False         False  False   False  False        False  \n",
       "3        False      False         False  False   False  False        False  \n",
       "4        False      False         False  False   False  False        False  "
      ]
     },
     "execution_count": 7,
     "metadata": {},
     "output_type": "execute_result"
    }
   ],
   "source": [
    "missing_data = train_data.isnull()\n",
    "missing_data.head()"
   ]
  },
  {
   "cell_type": "code",
   "execution_count": 8,
   "id": "01c58777-5534-42fd-bf75-cc5fa90eef72",
   "metadata": {
    "tags": []
   },
   "outputs": [
    {
     "name": "stdout",
     "output_type": "stream",
     "text": [
      "PassengerId\n",
      "False          8693\n",
      "dtype: int64\n",
      "-------------------------------\n",
      "HomePlanet\n",
      "False         8492\n",
      "True           201\n",
      "dtype: int64\n",
      "-------------------------------\n",
      "CryoSleep\n",
      "False        8476\n",
      "True          217\n",
      "dtype: int64\n",
      "-------------------------------\n",
      "Cabin\n",
      "False    8494\n",
      "True      199\n",
      "dtype: int64\n",
      "-------------------------------\n",
      "Destination\n",
      "False          8511\n",
      "True            182\n",
      "dtype: int64\n",
      "-------------------------------\n",
      "Age  \n",
      "False    8514\n",
      "True      179\n",
      "dtype: int64\n",
      "-------------------------------\n",
      "VIP  \n",
      "False    8490\n",
      "True      203\n",
      "dtype: int64\n",
      "-------------------------------\n",
      "RoomService\n",
      "False          8512\n",
      "True            181\n",
      "dtype: int64\n",
      "-------------------------------\n",
      "FoodCourt\n",
      "False        8510\n",
      "True          183\n",
      "dtype: int64\n",
      "-------------------------------\n",
      "ShoppingMall\n",
      "False           8485\n",
      "True             208\n",
      "dtype: int64\n",
      "-------------------------------\n",
      "Spa  \n",
      "False    8510\n",
      "True      183\n",
      "dtype: int64\n",
      "-------------------------------\n",
      "VRDeck\n",
      "False     8505\n",
      "True       188\n",
      "dtype: int64\n",
      "-------------------------------\n",
      "Name \n",
      "False    8493\n",
      "True      200\n",
      "dtype: int64\n",
      "-------------------------------\n",
      "Transported\n",
      "False          8693\n",
      "dtype: int64\n",
      "-------------------------------\n"
     ]
    }
   ],
   "source": [
    "for col in missing_data.columns.values.tolist():\n",
    "    print(missing_data[[col]].value_counts())\n",
    "    print('-------------------------------')"
   ]
  },
  {
   "cell_type": "code",
   "execution_count": 9,
   "id": "d1806768-cd75-41d4-9f92-8982bd2f20dd",
   "metadata": {
    "tags": []
   },
   "outputs": [
    {
     "data": {
      "text/html": [
       "<style>\n",
       "table {float:left}\n",
       "</style>\n"
      ],
      "text/plain": [
       "<IPython.core.display.HTML object>"
      ]
     },
     "metadata": {},
     "output_type": "display_data"
    }
   ],
   "source": [
    "%%html\n",
    "<style>\n",
    "table {float:left}\n",
    "</style>"
   ]
  },
  {
   "cell_type": "markdown",
   "id": "f5d05d71-7941-4f28-ba4c-ec104930ffbb",
   "metadata": {},
   "source": [
    "**The above analysis can be summarized as follows:**\n",
    "COLUMN  |  MISSING VALUES \n",
    ":--------|:--------------:\n",
    "PassengerId |0 \n",
    "HomePlanet | 201 \n",
    "CryoSleep |217\n",
    "Cabin |199|\n",
    "Destination|182\n",
    "Age|179\n",
    "VIP|203\n",
    "RoomService|181\n",
    "FoodCourt|183 \n",
    "ShoppingMall|208\n",
    "Spa |183\n",
    "VRDeck|188\n",
    "Name|200\n",
    "Transported|0\n"
   ]
  },
  {
   "cell_type": "markdown",
   "id": "00b3e504-8727-490b-b408-1b17c93d5c5a",
   "metadata": {},
   "source": [
    "---\n",
    "**Dealing with the Missing Values**\n"
   ]
  },
  {
   "cell_type": "markdown",
   "id": "4e7a5565-9fb0-4b70-8698-7057e49cb4e3",
   "metadata": {},
   "source": [
    "**1. Home Planet**"
   ]
  },
  {
   "cell_type": "code",
   "execution_count": 10,
   "id": "9377204b-dd5e-4794-8bb0-5c91e36100a0",
   "metadata": {
    "tags": []
   },
   "outputs": [
    {
     "data": {
      "text/plain": [
       "HomePlanet\n",
       "Earth         4602\n",
       "Europa        2131\n",
       "Mars          1759\n",
       "NaN            201\n",
       "dtype: int64"
      ]
     },
     "execution_count": 10,
     "metadata": {},
     "output_type": "execute_result"
    }
   ],
   "source": [
    "train_data[['HomePlanet']].value_counts(dropna=False)"
   ]
  },
  {
   "cell_type": "markdown",
   "id": "0c678f10-5a70-491b-99ce-52560dc1d730",
   "metadata": {},
   "source": [
    "----\n",
    "**Chi-Square Test**"
   ]
  },
  {
   "cell_type": "code",
   "execution_count": 11,
   "id": "23f13904-62e9-4dcb-a4e7-47ac71e99131",
   "metadata": {
    "tags": []
   },
   "outputs": [
    {
     "data": {
      "text/plain": [
       "2.809059985251311e-71"
      ]
     },
     "execution_count": 11,
     "metadata": {},
     "output_type": "execute_result"
    }
   ],
   "source": [
    "cont_table = pd.crosstab(train_data['HomePlanet'], train_data['Transported'])\n",
    "stats.chi2_contingency(cont_table, correction=True)[1]"
   ]
  },
  {
   "cell_type": "markdown",
   "id": "ccffd613-58ad-4af5-8c79-81253cc15e77",
   "metadata": {
    "tags": []
   },
   "source": [
    "The p-value < 0.05 Showing there is evidence of association between HomePlanet and Transported\n",
    "\n",
    "---"
   ]
  },
  {
   "cell_type": "markdown",
   "id": "4cf43eac-32fc-4d59-9973-1e0f5e63020d",
   "metadata": {
    "tags": []
   },
   "source": [
    "---\n",
    "I will replace the missing Values in HomePlanet with the mode\n",
    "\n",
    "---"
   ]
  },
  {
   "cell_type": "code",
   "execution_count": 12,
   "id": "dc219df1-6157-49cd-b67c-8c95fbdcb4f7",
   "metadata": {
    "tags": []
   },
   "outputs": [],
   "source": [
    "train_data['HomePlanet'].fillna(train_data['HomePlanet'].mode()[0], inplace=True)"
   ]
  },
  {
   "cell_type": "code",
   "execution_count": 13,
   "id": "e9a14524-53c6-4c35-8184-ac828f4ecff2",
   "metadata": {
    "tags": []
   },
   "outputs": [],
   "source": [
    "test_data['HomePlanet'].fillna(test_data['HomePlanet'].mode()[0], inplace = True)"
   ]
  },
  {
   "cell_type": "markdown",
   "id": "caf73475-4455-4439-95e6-3540c98fd5c7",
   "metadata": {
    "tags": []
   },
   "source": [
    "**2. CryoSleep**"
   ]
  },
  {
   "cell_type": "code",
   "execution_count": 14,
   "id": "18d11463-144f-4a79-94cb-ddb02ef95978",
   "metadata": {},
   "outputs": [
    {
     "data": {
      "text/plain": [
       "False    5439\n",
       "True     3037\n",
       "NaN       217\n",
       "Name: CryoSleep, dtype: int64"
      ]
     },
     "execution_count": 14,
     "metadata": {},
     "output_type": "execute_result"
    }
   ],
   "source": [
    "train_data['CryoSleep'].value_counts(dropna=False)"
   ]
  },
  {
   "cell_type": "markdown",
   "id": "c6733049-b46b-498f-8937-745d5dfb072e",
   "metadata": {},
   "source": [
    "---\n",
    "**Chi-Square Test**"
   ]
  },
  {
   "cell_type": "code",
   "execution_count": 90,
   "id": "3c2611dd-1d7e-4aa7-9c07-4961f3c820c2",
   "metadata": {
    "tags": []
   },
   "outputs": [
    {
     "data": {
      "text/plain": [
       "(1838.5677340571679,\n",
       " 0.0,\n",
       " 1,\n",
       " array([[2807.50488899, 2848.49511101],\n",
       "        [1507.49511101, 1529.50488899]]))"
      ]
     },
     "execution_count": 90,
     "metadata": {},
     "output_type": "execute_result"
    }
   ],
   "source": [
    "cryo_cont_table = pd.crosstab(train_data['CryoSleep'], train_data['Transported'])\n",
    "stats.chi2_contingency(cryo_cont_table, correction=True)"
   ]
  },
  {
   "cell_type": "markdown",
   "id": "b317d387-d2fe-4437-ae67-d88e765ceed1",
   "metadata": {},
   "source": [
    "The p-value > 0.1 showing there is little evidence of association between CryoSleep and Transported\n",
    "\n",
    "---"
   ]
  },
  {
   "cell_type": "markdown",
   "id": "b473d34b-855e-49c6-8046-1c81d7e116e6",
   "metadata": {},
   "source": [
    "---\n",
    "Replacing the the missing values in CryoSleep with the mode\n",
    "\n",
    "---"
   ]
  },
  {
   "cell_type": "code",
   "execution_count": 16,
   "id": "9ef9c9c3-b441-4a67-a412-7ef19bfc2537",
   "metadata": {
    "tags": []
   },
   "outputs": [],
   "source": [
    "train_data['CryoSleep'].fillna(train_data['CryoSleep'].mode()[0], inplace=True)\n",
    "test_data['CryoSleep'].fillna(test_data['CryoSleep'].mode()[0], inplace = True)"
   ]
  },
  {
   "cell_type": "markdown",
   "id": "d62b71b6-6790-4013-9e63-29f370567db1",
   "metadata": {},
   "source": [
    "**3. Cabin**"
   ]
  },
  {
   "cell_type": "code",
   "execution_count": 17,
   "id": "4b3c8177-5214-4dcd-b780-22ea83102daf",
   "metadata": {
    "tags": []
   },
   "outputs": [
    {
     "data": {
      "text/html": [
       "<div>\n",
       "<style scoped>\n",
       "    .dataframe tbody tr th:only-of-type {\n",
       "        vertical-align: middle;\n",
       "    }\n",
       "\n",
       "    .dataframe tbody tr th {\n",
       "        vertical-align: top;\n",
       "    }\n",
       "\n",
       "    .dataframe thead th {\n",
       "        text-align: right;\n",
       "    }\n",
       "</style>\n",
       "<table border=\"1\" class=\"dataframe\">\n",
       "  <thead>\n",
       "    <tr style=\"text-align: right;\">\n",
       "      <th></th>\n",
       "      <th>Cabin</th>\n",
       "    </tr>\n",
       "  </thead>\n",
       "  <tbody>\n",
       "    <tr>\n",
       "      <th>0</th>\n",
       "      <td>B/0/P</td>\n",
       "    </tr>\n",
       "    <tr>\n",
       "      <th>1</th>\n",
       "      <td>F/0/S</td>\n",
       "    </tr>\n",
       "    <tr>\n",
       "      <th>2</th>\n",
       "      <td>A/0/S</td>\n",
       "    </tr>\n",
       "    <tr>\n",
       "      <th>3</th>\n",
       "      <td>A/0/S</td>\n",
       "    </tr>\n",
       "    <tr>\n",
       "      <th>4</th>\n",
       "      <td>F/1/S</td>\n",
       "    </tr>\n",
       "  </tbody>\n",
       "</table>\n",
       "</div>"
      ],
      "text/plain": [
       "   Cabin\n",
       "0  B/0/P\n",
       "1  F/0/S\n",
       "2  A/0/S\n",
       "3  A/0/S\n",
       "4  F/1/S"
      ]
     },
     "execution_count": 17,
     "metadata": {},
     "output_type": "execute_result"
    }
   ],
   "source": [
    "train_data[['Cabin']].head()"
   ]
  },
  {
   "cell_type": "markdown",
   "id": "919c7f56-ccc8-4a6b-b86b-ca14e919178f",
   "metadata": {},
   "source": [
    "---\n",
    "I will replace the missing values with '0/0/0'.\n",
    "\n",
    "---"
   ]
  },
  {
   "cell_type": "code",
   "execution_count": 18,
   "id": "72ca5093-b344-496c-822b-68f9cbb5f16d",
   "metadata": {
    "tags": []
   },
   "outputs": [],
   "source": [
    "train_data['Cabin'].fillna('0/0/0', inplace = True)\n",
    "test_data['Cabin'].fillna('0/0/0', inplace = True)"
   ]
  },
  {
   "cell_type": "markdown",
   "id": "ede91001-3418-4926-9449-38e2ced12b76",
   "metadata": {
    "tags": []
   },
   "source": [
    "**4 Destination**"
   ]
  },
  {
   "cell_type": "code",
   "execution_count": 19,
   "id": "792252b9-3398-4869-a19f-2c57cd10349d",
   "metadata": {
    "tags": []
   },
   "outputs": [
    {
     "data": {
      "text/plain": [
       "Destination  \n",
       "TRAPPIST-1e      5915\n",
       "55 Cancri e      1800\n",
       "PSO J318.5-22     796\n",
       "NaN               182\n",
       "dtype: int64"
      ]
     },
     "execution_count": 19,
     "metadata": {},
     "output_type": "execute_result"
    }
   ],
   "source": [
    "train_data[['Destination']].value_counts(dropna=False)"
   ]
  },
  {
   "cell_type": "markdown",
   "id": "ba22b1a2-3971-4842-b225-6b58f6ae7f8e",
   "metadata": {
    "tags": []
   },
   "source": [
    "---\n",
    "Replacing the Missing value with the mode\n",
    "\n",
    "---"
   ]
  },
  {
   "cell_type": "code",
   "execution_count": 20,
   "id": "624a0422-5d2a-40ee-a774-e45e0e7898e0",
   "metadata": {
    "tags": []
   },
   "outputs": [],
   "source": [
    "train_data['Destination'].fillna(train_data['Destination'].mode()[0], inplace=True)\n",
    "test_data['Destination'].fillna(test_data['Destination'].mode()[0], inplace=True)"
   ]
  },
  {
   "cell_type": "markdown",
   "id": "ee52ee4d-c74e-41ab-90e2-92f620d457d9",
   "metadata": {
    "tags": []
   },
   "source": [
    "**5. Age**"
   ]
  },
  {
   "cell_type": "code",
   "execution_count": 21,
   "id": "5f3f3339-14bb-42eb-b7e2-12b1734941f0",
   "metadata": {
    "tags": []
   },
   "outputs": [
    {
     "data": {
      "text/html": [
       "<div>\n",
       "<style scoped>\n",
       "    .dataframe tbody tr th:only-of-type {\n",
       "        vertical-align: middle;\n",
       "    }\n",
       "\n",
       "    .dataframe tbody tr th {\n",
       "        vertical-align: top;\n",
       "    }\n",
       "\n",
       "    .dataframe thead th {\n",
       "        text-align: right;\n",
       "    }\n",
       "</style>\n",
       "<table border=\"1\" class=\"dataframe\">\n",
       "  <thead>\n",
       "    <tr style=\"text-align: right;\">\n",
       "      <th></th>\n",
       "      <th>Age</th>\n",
       "    </tr>\n",
       "  </thead>\n",
       "  <tbody>\n",
       "    <tr>\n",
       "      <th>0</th>\n",
       "      <td>39.0</td>\n",
       "    </tr>\n",
       "    <tr>\n",
       "      <th>1</th>\n",
       "      <td>24.0</td>\n",
       "    </tr>\n",
       "    <tr>\n",
       "      <th>2</th>\n",
       "      <td>58.0</td>\n",
       "    </tr>\n",
       "    <tr>\n",
       "      <th>3</th>\n",
       "      <td>33.0</td>\n",
       "    </tr>\n",
       "    <tr>\n",
       "      <th>4</th>\n",
       "      <td>16.0</td>\n",
       "    </tr>\n",
       "  </tbody>\n",
       "</table>\n",
       "</div>"
      ],
      "text/plain": [
       "    Age\n",
       "0  39.0\n",
       "1  24.0\n",
       "2  58.0\n",
       "3  33.0\n",
       "4  16.0"
      ]
     },
     "execution_count": 21,
     "metadata": {},
     "output_type": "execute_result"
    }
   ],
   "source": [
    "train_data[['Age']].head()"
   ]
  },
  {
   "cell_type": "code",
   "execution_count": 22,
   "id": "2bd7a2af-2ec3-413e-b310-2a872f7d003a",
   "metadata": {
    "tags": []
   },
   "outputs": [
    {
     "data": {
      "text/plain": [
       "numpy.float64"
      ]
     },
     "execution_count": 22,
     "metadata": {},
     "output_type": "execute_result"
    }
   ],
   "source": [
    "type(train_data['Age'].mean())"
   ]
  },
  {
   "cell_type": "markdown",
   "id": "31199f14-ad69-4673-899a-cc7510393b71",
   "metadata": {},
   "source": [
    "---\n",
    "Replacing missing values with the mean age\n",
    "\n",
    "---"
   ]
  },
  {
   "cell_type": "code",
   "execution_count": 23,
   "id": "ae814f52-4c27-4617-870a-37828ab1501c",
   "metadata": {
    "tags": []
   },
   "outputs": [],
   "source": [
    "train_data['Age'].fillna(train_data['Age'].mean(), inplace = True)\n",
    "test_data['Age'].fillna(test_data['Age'].mean(), inplace = True)"
   ]
  },
  {
   "cell_type": "markdown",
   "id": "ced67df8-17d6-4411-b5ab-30da555aad6f",
   "metadata": {},
   "source": [
    "**6. VIP**"
   ]
  },
  {
   "cell_type": "code",
   "execution_count": 24,
   "id": "e58705a5-679c-4c15-ad1b-b43647af26a5",
   "metadata": {
    "tags": []
   },
   "outputs": [
    {
     "data": {
      "text/plain": [
       "VIP  \n",
       "False    8291\n",
       "NaN       203\n",
       "True      199\n",
       "dtype: int64"
      ]
     },
     "execution_count": 24,
     "metadata": {},
     "output_type": "execute_result"
    }
   ],
   "source": [
    "train_data[['VIP']].value_counts(dropna=False)"
   ]
  },
  {
   "cell_type": "markdown",
   "id": "6256ed34-7acf-4fc3-9bdd-28e00f44b41f",
   "metadata": {},
   "source": [
    "---\n",
    "Replace missing values with the mode\n",
    "\n",
    "---"
   ]
  },
  {
   "cell_type": "code",
   "execution_count": 25,
   "id": "5c6bdf1f-2646-4e8e-becc-df54b8f76ffe",
   "metadata": {
    "tags": []
   },
   "outputs": [],
   "source": [
    "train_data['VIP'].fillna(train_data['VIP'].mode()[0], inplace = True)\n",
    "test_data['VIP'].fillna(test_data['VIP'].mode()[0], inplace = True)"
   ]
  },
  {
   "cell_type": "markdown",
   "id": "1ae4255b-8498-4595-83a1-5d8a9aedd6e8",
   "metadata": {},
   "source": [
    "**7. RoomService, FoodCourt, ShoppingMall, Spa, VRDeck**"
   ]
  },
  {
   "cell_type": "markdown",
   "id": "199e1963-be35-4fe4-b517-bc3f4975f74b",
   "metadata": {},
   "source": [
    "---\n",
    "Missing values of all the following will be replaced with zero\n",
    "\n",
    "---"
   ]
  },
  {
   "cell_type": "code",
   "execution_count": 26,
   "id": "5e83e292-c0e0-4c39-856f-b9208da0e022",
   "metadata": {
    "tags": []
   },
   "outputs": [],
   "source": [
    "#RoomService\n",
    "train_data['RoomService'].fillna(0.0, inplace=True)\n",
    "test_data['RoomService'].fillna(0.0, inplace=True)\n",
    "\n",
    "#FoodCourt\n",
    "train_data['FoodCourt'].fillna(0.0, inplace=True)\n",
    "test_data['FoodCourt'].fillna(0.0, inplace=True)\n",
    "\n",
    "#ShoppingMall\n",
    "train_data['ShoppingMall'].fillna(0.0, inplace=True)\n",
    "test_data['ShoppingMall'].fillna(0.0, inplace=True)\n",
    "\n",
    "#Spa\n",
    "train_data['Spa'].fillna(0.0, inplace=True)\n",
    "test_data['Spa'].fillna(0.0, inplace=True)\n",
    "\n",
    "#VRDeck\n",
    "train_data['VRDeck'].fillna(0.0, inplace=True)\n",
    "test_data['VRDeck'].fillna(0.0, inplace=True)\n"
   ]
  },
  {
   "cell_type": "markdown",
   "id": "54682ba2-245c-4263-a213-9e4fbd9da315",
   "metadata": {},
   "source": [
    "**8. Name**\n",
    "\n",
    "---\n",
    "The Missing values for the Name column will not be replaced since the column will not be dropped\n",
    "\n",
    "---"
   ]
  },
  {
   "cell_type": "markdown",
   "id": "7db5855b-e1df-4598-b65d-f209d330f5b5",
   "metadata": {},
   "source": [
    "### STEP 4.2: Data Formating and Standardization\n",
    "---"
   ]
  },
  {
   "cell_type": "code",
   "execution_count": 27,
   "id": "eba42083-5fa9-431d-a196-7ae46cbe036e",
   "metadata": {},
   "outputs": [
    {
     "data": {
      "text/plain": [
       "PassengerId      object\n",
       "HomePlanet       object\n",
       "CryoSleep          bool\n",
       "Cabin            object\n",
       "Destination      object\n",
       "Age             float64\n",
       "VIP                bool\n",
       "RoomService     float64\n",
       "FoodCourt       float64\n",
       "ShoppingMall    float64\n",
       "Spa             float64\n",
       "VRDeck          float64\n",
       "Name             object\n",
       "Transported        bool\n",
       "dtype: object"
      ]
     },
     "execution_count": 27,
     "metadata": {},
     "output_type": "execute_result"
    }
   ],
   "source": [
    "train_data.dtypes"
   ]
  },
  {
   "cell_type": "markdown",
   "id": "a7bfe5c5-c1ad-45d7-9e63-576ac99575ec",
   "metadata": {
    "tags": []
   },
   "source": [
    "---\n",
    "+ All the data types reflects the kind of data used in the respective columns.\n",
    "+ No columns need standardization.\n",
    "\n",
    "---"
   ]
  },
  {
   "cell_type": "markdown",
   "id": "263d3f0b-15a3-489c-a843-998b415202b1",
   "metadata": {
    "tags": []
   },
   "source": [
    "### STEP 4.3: Data Normalization\n",
    "---"
   ]
  },
  {
   "cell_type": "markdown",
   "id": "66a782f1-49f0-448c-8dfb-8316497f4b77",
   "metadata": {},
   "source": [
    "+ Data Normalization will not be done to any of the columns since all float64 columns will be conveted to either objects or bool types in the coming steps.\n",
    "\n",
    "---"
   ]
  },
  {
   "cell_type": "markdown",
   "id": "61fa8fcb-14f2-486f-a8bf-510192508df7",
   "metadata": {},
   "source": [
    "### STEP 4.4: Binning\n",
    "---"
   ]
  },
  {
   "cell_type": "code",
   "execution_count": 28,
   "id": "2c7fee6f-bba2-4ee4-be79-c0e2b6fdf93f",
   "metadata": {
    "tags": []
   },
   "outputs": [
    {
     "data": {
      "text/html": [
       "<div>\n",
       "<style scoped>\n",
       "    .dataframe tbody tr th:only-of-type {\n",
       "        vertical-align: middle;\n",
       "    }\n",
       "\n",
       "    .dataframe tbody tr th {\n",
       "        vertical-align: top;\n",
       "    }\n",
       "\n",
       "    .dataframe thead th {\n",
       "        text-align: right;\n",
       "    }\n",
       "</style>\n",
       "<table border=\"1\" class=\"dataframe\">\n",
       "  <thead>\n",
       "    <tr style=\"text-align: right;\">\n",
       "      <th></th>\n",
       "      <th>Age</th>\n",
       "    </tr>\n",
       "  </thead>\n",
       "  <tbody>\n",
       "    <tr>\n",
       "      <th>count</th>\n",
       "      <td>8693.000000</td>\n",
       "    </tr>\n",
       "    <tr>\n",
       "      <th>mean</th>\n",
       "      <td>28.827930</td>\n",
       "    </tr>\n",
       "    <tr>\n",
       "      <th>std</th>\n",
       "      <td>14.339054</td>\n",
       "    </tr>\n",
       "    <tr>\n",
       "      <th>min</th>\n",
       "      <td>0.000000</td>\n",
       "    </tr>\n",
       "    <tr>\n",
       "      <th>25%</th>\n",
       "      <td>20.000000</td>\n",
       "    </tr>\n",
       "    <tr>\n",
       "      <th>50%</th>\n",
       "      <td>27.000000</td>\n",
       "    </tr>\n",
       "    <tr>\n",
       "      <th>75%</th>\n",
       "      <td>37.000000</td>\n",
       "    </tr>\n",
       "    <tr>\n",
       "      <th>max</th>\n",
       "      <td>79.000000</td>\n",
       "    </tr>\n",
       "  </tbody>\n",
       "</table>\n",
       "</div>"
      ],
      "text/plain": [
       "               Age\n",
       "count  8693.000000\n",
       "mean     28.827930\n",
       "std      14.339054\n",
       "min       0.000000\n",
       "25%      20.000000\n",
       "50%      27.000000\n",
       "75%      37.000000\n",
       "max      79.000000"
      ]
     },
     "execution_count": 28,
     "metadata": {},
     "output_type": "execute_result"
    }
   ],
   "source": [
    "train_data[['Age']].describe()"
   ]
  },
  {
   "cell_type": "code",
   "execution_count": 29,
   "id": "2c247c11-eff2-4927-b1fc-bfc3dc8f57fe",
   "metadata": {
    "tags": []
   },
   "outputs": [
    {
     "data": {
      "text/plain": [
       "<AxesSubplot: xlabel='Transported', ylabel='Age'>"
      ]
     },
     "execution_count": 29,
     "metadata": {},
     "output_type": "execute_result"
    },
    {
     "data": {
      "image/png": "[encoded data removed]",
      "text/plain": [
       "<Figure size 640x480 with 1 Axes>"
      ]
     },
     "metadata": {},
     "output_type": "display_data"
    }
   ],
   "source": [
    "sns.boxplot(x='Transported', y='Age', data=train_data)"
   ]
  },
  {
   "cell_type": "markdown",
   "id": "0388dbe3-7ca8-4230-9492-2031edba9d89",
   "metadata": {},
   "source": [
    "---\n",
    "The Ages will be group into two groups ie young and old\n",
    "\n",
    "---"
   ]
  },
  {
   "cell_type": "code",
   "execution_count": 30,
   "id": "6204ef0c-a8c4-44ef-88b0-3de352ed485a",
   "metadata": {
    "tags": []
   },
   "outputs": [
    {
     "data": {
      "text/plain": [
       "array([ 0. , 39.5, 79. ])"
      ]
     },
     "execution_count": 30,
     "metadata": {},
     "output_type": "execute_result"
    }
   ],
   "source": [
    "bins = np.linspace(train_data['Age'].min(), train_data['Age'].max(), 3)\n",
    "bins"
   ]
  },
  {
   "cell_type": "code",
   "execution_count": 31,
   "id": "2ff1c468-10e8-4a2d-9b02-a8362d97e41b",
   "metadata": {
    "tags": []
   },
   "outputs": [],
   "source": [
    "labels = ['young', 'old']\n",
    "train_data['Age'] = pd.cut(train_data['Age'], bins=bins, labels=labels, include_lowest=True)"
   ]
  },
  {
   "cell_type": "code",
   "execution_count": 32,
   "id": "75611c45-d4c3-47dc-b348-caeaf5c71e32",
   "metadata": {
    "tags": []
   },
   "outputs": [
    {
     "data": {
      "text/html": [
       "<div>\n",
       "<style scoped>\n",
       "    .dataframe tbody tr th:only-of-type {\n",
       "        vertical-align: middle;\n",
       "    }\n",
       "\n",
       "    .dataframe tbody tr th {\n",
       "        vertical-align: top;\n",
       "    }\n",
       "\n",
       "    .dataframe thead th {\n",
       "        text-align: right;\n",
       "    }\n",
       "</style>\n",
       "<table border=\"1\" class=\"dataframe\">\n",
       "  <thead>\n",
       "    <tr style=\"text-align: right;\">\n",
       "      <th></th>\n",
       "      <th>PassengerId</th>\n",
       "      <th>HomePlanet</th>\n",
       "      <th>CryoSleep</th>\n",
       "      <th>Cabin</th>\n",
       "      <th>Destination</th>\n",
       "      <th>Age</th>\n",
       "      <th>VIP</th>\n",
       "      <th>RoomService</th>\n",
       "      <th>FoodCourt</th>\n",
       "      <th>ShoppingMall</th>\n",
       "      <th>Spa</th>\n",
       "      <th>VRDeck</th>\n",
       "      <th>Name</th>\n",
       "      <th>Transported</th>\n",
       "    </tr>\n",
       "  </thead>\n",
       "  <tbody>\n",
       "    <tr>\n",
       "      <th>0</th>\n",
       "      <td>0001_01</td>\n",
       "      <td>Europa</td>\n",
       "      <td>False</td>\n",
       "      <td>B/0/P</td>\n",
       "      <td>TRAPPIST-1e</td>\n",
       "      <td>young</td>\n",
       "      <td>False</td>\n",
       "      <td>0.0</td>\n",
       "      <td>0.0</td>\n",
       "      <td>0.0</td>\n",
       "      <td>0.0</td>\n",
       "      <td>0.0</td>\n",
       "      <td>Maham Ofracculy</td>\n",
       "      <td>False</td>\n",
       "    </tr>\n",
       "    <tr>\n",
       "      <th>1</th>\n",
       "      <td>0002_01</td>\n",
       "      <td>Earth</td>\n",
       "      <td>False</td>\n",
       "      <td>F/0/S</td>\n",
       "      <td>TRAPPIST-1e</td>\n",
       "      <td>young</td>\n",
       "      <td>False</td>\n",
       "      <td>109.0</td>\n",
       "      <td>9.0</td>\n",
       "      <td>25.0</td>\n",
       "      <td>549.0</td>\n",
       "      <td>44.0</td>\n",
       "      <td>Juanna Vines</td>\n",
       "      <td>True</td>\n",
       "    </tr>\n",
       "    <tr>\n",
       "      <th>2</th>\n",
       "      <td>0003_01</td>\n",
       "      <td>Europa</td>\n",
       "      <td>False</td>\n",
       "      <td>A/0/S</td>\n",
       "      <td>TRAPPIST-1e</td>\n",
       "      <td>old</td>\n",
       "      <td>True</td>\n",
       "      <td>43.0</td>\n",
       "      <td>3576.0</td>\n",
       "      <td>0.0</td>\n",
       "      <td>6715.0</td>\n",
       "      <td>49.0</td>\n",
       "      <td>Altark Susent</td>\n",
       "      <td>False</td>\n",
       "    </tr>\n",
       "    <tr>\n",
       "      <th>3</th>\n",
       "      <td>0003_02</td>\n",
       "      <td>Europa</td>\n",
       "      <td>False</td>\n",
       "      <td>A/0/S</td>\n",
       "      <td>TRAPPIST-1e</td>\n",
       "      <td>young</td>\n",
       "      <td>False</td>\n",
       "      <td>0.0</td>\n",
       "      <td>1283.0</td>\n",
       "      <td>371.0</td>\n",
       "      <td>3329.0</td>\n",
       "      <td>193.0</td>\n",
       "      <td>Solam Susent</td>\n",
       "      <td>False</td>\n",
       "    </tr>\n",
       "    <tr>\n",
       "      <th>4</th>\n",
       "      <td>0004_01</td>\n",
       "      <td>Earth</td>\n",
       "      <td>False</td>\n",
       "      <td>F/1/S</td>\n",
       "      <td>TRAPPIST-1e</td>\n",
       "      <td>young</td>\n",
       "      <td>False</td>\n",
       "      <td>303.0</td>\n",
       "      <td>70.0</td>\n",
       "      <td>151.0</td>\n",
       "      <td>565.0</td>\n",
       "      <td>2.0</td>\n",
       "      <td>Willy Santantines</td>\n",
       "      <td>True</td>\n",
       "    </tr>\n",
       "  </tbody>\n",
       "</table>\n",
       "</div>"
      ],
      "text/plain": [
       "  PassengerId HomePlanet  CryoSleep  Cabin  Destination    Age    VIP  \\\n",
       "0     0001_01     Europa      False  B/0/P  TRAPPIST-1e  young  False   \n",
       "1     0002_01      Earth      False  F/0/S  TRAPPIST-1e  young  False   \n",
       "2     0003_01     Europa      False  A/0/S  TRAPPIST-1e    old   True   \n",
       "3     0003_02     Europa      False  A/0/S  TRAPPIST-1e  young  False   \n",
       "4     0004_01      Earth      False  F/1/S  TRAPPIST-1e  young  False   \n",
       "\n",
       "   RoomService  FoodCourt  ShoppingMall     Spa  VRDeck               Name  \\\n",
       "0          0.0        0.0           0.0     0.0     0.0    Maham Ofracculy   \n",
       "1        109.0        9.0          25.0   549.0    44.0       Juanna Vines   \n",
       "2         43.0     3576.0           0.0  6715.0    49.0      Altark Susent   \n",
       "3          0.0     1283.0         371.0  3329.0   193.0       Solam Susent   \n",
       "4        303.0       70.0         151.0   565.0     2.0  Willy Santantines   \n",
       "\n",
       "   Transported  \n",
       "0        False  \n",
       "1         True  \n",
       "2        False  \n",
       "3        False  \n",
       "4         True  "
      ]
     },
     "execution_count": 32,
     "metadata": {},
     "output_type": "execute_result"
    }
   ],
   "source": [
    "train_data.head()"
   ]
  },
  {
   "cell_type": "code",
   "execution_count": 33,
   "id": "ed708142-a1d9-4e46-819a-f327da518c0e",
   "metadata": {
    "tags": []
   },
   "outputs": [],
   "source": [
    "test_data['Age'] = pd.cut(test_data['Age'], bins=bins, labels=labels, include_lowest=True)"
   ]
  },
  {
   "cell_type": "code",
   "execution_count": 34,
   "id": "5cac6875-c4f1-4eba-8fe5-526e64fd8e96",
   "metadata": {
    "tags": []
   },
   "outputs": [
    {
     "data": {
      "text/html": [
       "<div>\n",
       "<style scoped>\n",
       "    .dataframe tbody tr th:only-of-type {\n",
       "        vertical-align: middle;\n",
       "    }\n",
       "\n",
       "    .dataframe tbody tr th {\n",
       "        vertical-align: top;\n",
       "    }\n",
       "\n",
       "    .dataframe thead th {\n",
       "        text-align: right;\n",
       "    }\n",
       "</style>\n",
       "<table border=\"1\" class=\"dataframe\">\n",
       "  <thead>\n",
       "    <tr style=\"text-align: right;\">\n",
       "      <th></th>\n",
       "      <th>PassengerId</th>\n",
       "      <th>HomePlanet</th>\n",
       "      <th>CryoSleep</th>\n",
       "      <th>Cabin</th>\n",
       "      <th>Destination</th>\n",
       "      <th>Age</th>\n",
       "      <th>VIP</th>\n",
       "      <th>RoomService</th>\n",
       "      <th>FoodCourt</th>\n",
       "      <th>ShoppingMall</th>\n",
       "      <th>Spa</th>\n",
       "      <th>VRDeck</th>\n",
       "      <th>Name</th>\n",
       "    </tr>\n",
       "  </thead>\n",
       "  <tbody>\n",
       "    <tr>\n",
       "      <th>0</th>\n",
       "      <td>0013_01</td>\n",
       "      <td>Earth</td>\n",
       "      <td>True</td>\n",
       "      <td>G/3/S</td>\n",
       "      <td>TRAPPIST-1e</td>\n",
       "      <td>young</td>\n",
       "      <td>False</td>\n",
       "      <td>0.0</td>\n",
       "      <td>0.0</td>\n",
       "      <td>0.0</td>\n",
       "      <td>0.0</td>\n",
       "      <td>0.0</td>\n",
       "      <td>Nelly Carsoning</td>\n",
       "    </tr>\n",
       "    <tr>\n",
       "      <th>1</th>\n",
       "      <td>0018_01</td>\n",
       "      <td>Earth</td>\n",
       "      <td>False</td>\n",
       "      <td>F/4/S</td>\n",
       "      <td>TRAPPIST-1e</td>\n",
       "      <td>young</td>\n",
       "      <td>False</td>\n",
       "      <td>0.0</td>\n",
       "      <td>9.0</td>\n",
       "      <td>0.0</td>\n",
       "      <td>2823.0</td>\n",
       "      <td>0.0</td>\n",
       "      <td>Lerome Peckers</td>\n",
       "    </tr>\n",
       "    <tr>\n",
       "      <th>2</th>\n",
       "      <td>0019_01</td>\n",
       "      <td>Europa</td>\n",
       "      <td>True</td>\n",
       "      <td>C/0/S</td>\n",
       "      <td>55 Cancri e</td>\n",
       "      <td>young</td>\n",
       "      <td>False</td>\n",
       "      <td>0.0</td>\n",
       "      <td>0.0</td>\n",
       "      <td>0.0</td>\n",
       "      <td>0.0</td>\n",
       "      <td>0.0</td>\n",
       "      <td>Sabih Unhearfus</td>\n",
       "    </tr>\n",
       "    <tr>\n",
       "      <th>3</th>\n",
       "      <td>0021_01</td>\n",
       "      <td>Europa</td>\n",
       "      <td>False</td>\n",
       "      <td>C/1/S</td>\n",
       "      <td>TRAPPIST-1e</td>\n",
       "      <td>young</td>\n",
       "      <td>False</td>\n",
       "      <td>0.0</td>\n",
       "      <td>6652.0</td>\n",
       "      <td>0.0</td>\n",
       "      <td>181.0</td>\n",
       "      <td>585.0</td>\n",
       "      <td>Meratz Caltilter</td>\n",
       "    </tr>\n",
       "    <tr>\n",
       "      <th>4</th>\n",
       "      <td>0023_01</td>\n",
       "      <td>Earth</td>\n",
       "      <td>False</td>\n",
       "      <td>F/5/S</td>\n",
       "      <td>TRAPPIST-1e</td>\n",
       "      <td>young</td>\n",
       "      <td>False</td>\n",
       "      <td>10.0</td>\n",
       "      <td>0.0</td>\n",
       "      <td>635.0</td>\n",
       "      <td>0.0</td>\n",
       "      <td>0.0</td>\n",
       "      <td>Brence Harperez</td>\n",
       "    </tr>\n",
       "  </tbody>\n",
       "</table>\n",
       "</div>"
      ],
      "text/plain": [
       "  PassengerId HomePlanet  CryoSleep  Cabin  Destination    Age    VIP  \\\n",
       "0     0013_01      Earth       True  G/3/S  TRAPPIST-1e  young  False   \n",
       "1     0018_01      Earth      False  F/4/S  TRAPPIST-1e  young  False   \n",
       "2     0019_01     Europa       True  C/0/S  55 Cancri e  young  False   \n",
       "3     0021_01     Europa      False  C/1/S  TRAPPIST-1e  young  False   \n",
       "4     0023_01      Earth      False  F/5/S  TRAPPIST-1e  young  False   \n",
       "\n",
       "   RoomService  FoodCourt  ShoppingMall     Spa  VRDeck              Name  \n",
       "0          0.0        0.0           0.0     0.0     0.0   Nelly Carsoning  \n",
       "1          0.0        9.0           0.0  2823.0     0.0    Lerome Peckers  \n",
       "2          0.0        0.0           0.0     0.0     0.0   Sabih Unhearfus  \n",
       "3          0.0     6652.0           0.0   181.0   585.0  Meratz Caltilter  \n",
       "4         10.0        0.0         635.0     0.0     0.0   Brence Harperez  "
      ]
     },
     "execution_count": 34,
     "metadata": {},
     "output_type": "execute_result"
    }
   ],
   "source": [
    "test_data.head()"
   ]
  },
  {
   "cell_type": "markdown",
   "id": "cfb4a537-cda9-427c-9f4e-c85ea14e970e",
   "metadata": {},
   "source": [
    "## Step 5: Exploratory Data Analysis and Feature Engineering\n",
    "---\n",
    "\n",
    "This will be done in 2 steps\n",
    "\n",
    "1. Feature Engineering part 1\n",
    "\n",
    "2. Exploratory Data Analysis\n",
    "\n",
    "3. Feature Engineering part 2"
   ]
  },
  {
   "cell_type": "markdown",
   "id": "3ffd993e-78c6-4ffc-bef2-fa6729dfde32",
   "metadata": {},
   "source": [
    "### 5.1 Feature Engineering Part 1\n",
    "---"
   ]
  },
  {
   "cell_type": "code",
   "execution_count": 35,
   "id": "6b7b9e75-c821-4b72-ad69-47b0b9b9a684",
   "metadata": {
    "tags": []
   },
   "outputs": [
    {
     "data": {
      "text/html": [
       "<div>\n",
       "<style scoped>\n",
       "    .dataframe tbody tr th:only-of-type {\n",
       "        vertical-align: middle;\n",
       "    }\n",
       "\n",
       "    .dataframe tbody tr th {\n",
       "        vertical-align: top;\n",
       "    }\n",
       "\n",
       "    .dataframe thead th {\n",
       "        text-align: right;\n",
       "    }\n",
       "</style>\n",
       "<table border=\"1\" class=\"dataframe\">\n",
       "  <thead>\n",
       "    <tr style=\"text-align: right;\">\n",
       "      <th></th>\n",
       "      <th>PassengerId</th>\n",
       "      <th>HomePlanet</th>\n",
       "      <th>CryoSleep</th>\n",
       "      <th>Cabin</th>\n",
       "      <th>Destination</th>\n",
       "      <th>Age</th>\n",
       "      <th>VIP</th>\n",
       "      <th>RoomService</th>\n",
       "      <th>FoodCourt</th>\n",
       "      <th>ShoppingMall</th>\n",
       "      <th>Spa</th>\n",
       "      <th>VRDeck</th>\n",
       "      <th>Name</th>\n",
       "      <th>Transported</th>\n",
       "    </tr>\n",
       "  </thead>\n",
       "  <tbody>\n",
       "    <tr>\n",
       "      <th>0</th>\n",
       "      <td>0001_01</td>\n",
       "      <td>Europa</td>\n",
       "      <td>False</td>\n",
       "      <td>B/0/P</td>\n",
       "      <td>TRAPPIST-1e</td>\n",
       "      <td>young</td>\n",
       "      <td>False</td>\n",
       "      <td>0.0</td>\n",
       "      <td>0.0</td>\n",
       "      <td>0.0</td>\n",
       "      <td>0.0</td>\n",
       "      <td>0.0</td>\n",
       "      <td>Maham Ofracculy</td>\n",
       "      <td>False</td>\n",
       "    </tr>\n",
       "    <tr>\n",
       "      <th>1</th>\n",
       "      <td>0002_01</td>\n",
       "      <td>Earth</td>\n",
       "      <td>False</td>\n",
       "      <td>F/0/S</td>\n",
       "      <td>TRAPPIST-1e</td>\n",
       "      <td>young</td>\n",
       "      <td>False</td>\n",
       "      <td>109.0</td>\n",
       "      <td>9.0</td>\n",
       "      <td>25.0</td>\n",
       "      <td>549.0</td>\n",
       "      <td>44.0</td>\n",
       "      <td>Juanna Vines</td>\n",
       "      <td>True</td>\n",
       "    </tr>\n",
       "    <tr>\n",
       "      <th>2</th>\n",
       "      <td>0003_01</td>\n",
       "      <td>Europa</td>\n",
       "      <td>False</td>\n",
       "      <td>A/0/S</td>\n",
       "      <td>TRAPPIST-1e</td>\n",
       "      <td>old</td>\n",
       "      <td>True</td>\n",
       "      <td>43.0</td>\n",
       "      <td>3576.0</td>\n",
       "      <td>0.0</td>\n",
       "      <td>6715.0</td>\n",
       "      <td>49.0</td>\n",
       "      <td>Altark Susent</td>\n",
       "      <td>False</td>\n",
       "    </tr>\n",
       "    <tr>\n",
       "      <th>3</th>\n",
       "      <td>0003_02</td>\n",
       "      <td>Europa</td>\n",
       "      <td>False</td>\n",
       "      <td>A/0/S</td>\n",
       "      <td>TRAPPIST-1e</td>\n",
       "      <td>young</td>\n",
       "      <td>False</td>\n",
       "      <td>0.0</td>\n",
       "      <td>1283.0</td>\n",
       "      <td>371.0</td>\n",
       "      <td>3329.0</td>\n",
       "      <td>193.0</td>\n",
       "      <td>Solam Susent</td>\n",
       "      <td>False</td>\n",
       "    </tr>\n",
       "    <tr>\n",
       "      <th>4</th>\n",
       "      <td>0004_01</td>\n",
       "      <td>Earth</td>\n",
       "      <td>False</td>\n",
       "      <td>F/1/S</td>\n",
       "      <td>TRAPPIST-1e</td>\n",
       "      <td>young</td>\n",
       "      <td>False</td>\n",
       "      <td>303.0</td>\n",
       "      <td>70.0</td>\n",
       "      <td>151.0</td>\n",
       "      <td>565.0</td>\n",
       "      <td>2.0</td>\n",
       "      <td>Willy Santantines</td>\n",
       "      <td>True</td>\n",
       "    </tr>\n",
       "  </tbody>\n",
       "</table>\n",
       "</div>"
      ],
      "text/plain": [
       "  PassengerId HomePlanet  CryoSleep  Cabin  Destination    Age    VIP  \\\n",
       "0     0001_01     Europa      False  B/0/P  TRAPPIST-1e  young  False   \n",
       "1     0002_01      Earth      False  F/0/S  TRAPPIST-1e  young  False   \n",
       "2     0003_01     Europa      False  A/0/S  TRAPPIST-1e    old   True   \n",
       "3     0003_02     Europa      False  A/0/S  TRAPPIST-1e  young  False   \n",
       "4     0004_01      Earth      False  F/1/S  TRAPPIST-1e  young  False   \n",
       "\n",
       "   RoomService  FoodCourt  ShoppingMall     Spa  VRDeck               Name  \\\n",
       "0          0.0        0.0           0.0     0.0     0.0    Maham Ofracculy   \n",
       "1        109.0        9.0          25.0   549.0    44.0       Juanna Vines   \n",
       "2         43.0     3576.0           0.0  6715.0    49.0      Altark Susent   \n",
       "3          0.0     1283.0         371.0  3329.0   193.0       Solam Susent   \n",
       "4        303.0       70.0         151.0   565.0     2.0  Willy Santantines   \n",
       "\n",
       "   Transported  \n",
       "0        False  \n",
       "1         True  \n",
       "2        False  \n",
       "3        False  \n",
       "4         True  "
      ]
     },
     "execution_count": 35,
     "metadata": {},
     "output_type": "execute_result"
    }
   ],
   "source": [
    "train_data.head()"
   ]
  },
  {
   "cell_type": "markdown",
   "id": "9b919251-5eef-49d8-858f-78f43c15e162",
   "metadata": {},
   "source": [
    "**These are some of the feature engineering that will be done on the data :**\n",
    "\n",
    "1. Passenger ID - This column will be dropped.\n",
    "\n",
    "2. Cabin - The deck and side will be xtracted from the cabin column.\n",
    "\n",
    "3. RoomService, FoodCourt, ShoppingMall, Spa, VRDeck - These columns will be added up and combined into one called 'ammenities'\n",
    "\n",
    "4. Name - This column will be dropped."
   ]
  },
  {
   "cell_type": "markdown",
   "id": "0c8026f9-9acc-4d2a-a7fd-497830cda445",
   "metadata": {},
   "source": [
    "#### 5.1.1 Passenger ID and Name Columns\n",
    "---"
   ]
  },
  {
   "cell_type": "code",
   "execution_count": 36,
   "id": "ef8ace72-9cf3-47bf-a48e-3521108323ad",
   "metadata": {
    "tags": []
   },
   "outputs": [],
   "source": [
    "\n",
    "def drops_col(df):\n",
    "    \"\"\"\n",
    "    The folllowing function drops the passengeriD and Name columns from a dataframe\n",
    "    and returns the dataframe\n",
    "    \"\"\"   \n",
    "    df.drop('PassengerId', axis=1, inplace=True)\n",
    "    df.drop('Name', axis=1, inplace=True)\n",
    "    \n",
    "    return df\n",
    "    "
   ]
  },
  {
   "cell_type": "code",
   "execution_count": 39,
   "id": "18dbebb4-0efb-4673-b9b7-01995b69c87c",
   "metadata": {
    "tags": []
   },
   "outputs": [],
   "source": [
    "fe_train_data = drops_col(train_data)\n",
    "fe_test_data = drops_col(test_data)"
   ]
  },
  {
   "cell_type": "markdown",
   "id": "32b82972-f810-4f75-80a1-c3cffb7a8ae9",
   "metadata": {
    "tags": []
   },
   "source": [
    "#### 5.1.2 Cabin Column\n",
    "---"
   ]
  },
  {
   "cell_type": "code",
   "execution_count": 63,
   "id": "c0c93035-3c0d-4b34-82e5-de01d1b105bc",
   "metadata": {
    "tags": []
   },
   "outputs": [],
   "source": [
    "def cabin_col(df):\n",
    "    \"\"\"\n",
    "    The function takes in a dataframe, splits the cabin column into two the cabin deck and cabin side\n",
    "    it appends the two into the dataframe, drops the cabin column and returns the dataframe\n",
    "    \"\"\"\n",
    "    cabin_list = df['Cabin'].to_list()\n",
    "    deck = []\n",
    "    side = []\n",
    "    \n",
    "    for i in cabin_list:\n",
    "        deck.append(i.split('/')[0])\n",
    "        side.append(i.split('/')[-1])\n",
    "        \n",
    "    df['cabin_deck'] = deck\n",
    "    df['cabin_side'] = side\n",
    "    \n",
    "    df.drop('Cabin', axis=1, inplace=True)\n",
    "    \n",
    "    return df"
   ]
  },
  {
   "cell_type": "code",
   "execution_count": 64,
   "id": "5d4250f4-db8d-4fc5-8430-abc45a3e1976",
   "metadata": {
    "tags": []
   },
   "outputs": [],
   "source": [
    "fe_train_data = cabin_col(fe_train_data)\n",
    "fe_test_data = cabin_col(fe_test_data)"
   ]
  },
  {
   "cell_type": "markdown",
   "id": "1adea02d-5f63-4f50-95a0-a38cf8659ed5",
   "metadata": {
    "tags": []
   },
   "source": [
    "#### 5.1.3 RoomService, FoodCourt, ShoppingMall, Spa and VRDeck Columns\n",
    "---"
   ]
  },
  {
   "cell_type": "code",
   "execution_count": 72,
   "id": "713d552a-f6e5-4adb-b83c-0ac243b7e0a7",
   "metadata": {
    "tags": []
   },
   "outputs": [],
   "source": [
    "def total_ammenities(df):\n",
    "    \"\"\"\n",
    "    The following takes in a dataframe and adds all the ammenties used into one column called amenities,\n",
    "    drops the individual ammenities and returns the dataframe\n",
    "    \"\"\"\n",
    "    df['total_amenities'] = df['RoomService'] + df['FoodCourt'] + df['ShoppingMall'] + df['Spa'] + df['VRDeck']\n",
    "    \n",
    "    df.drop('RoomService', axis = 1, inplace = True)\n",
    "    df.drop('FoodCourt', axis = 1, inplace = True)\n",
    "    df.drop('ShoppingMall', axis = 1, inplace = True)\n",
    "    df.drop('Spa', axis = 1, inplace = True)\n",
    "    df.drop('VRDeck', axis = 1, inplace = True)\n",
    "    \n",
    "    return df\n",
    "    "
   ]
  },
  {
   "cell_type": "code",
   "execution_count": 73,
   "id": "1fecf693-edd5-47f4-b80c-d08a13abaeb5",
   "metadata": {
    "tags": []
   },
   "outputs": [],
   "source": [
    "fe_train_data = total_ammenities(fe_train_data)\n",
    "fe_test_data = total_ammenities(fe_test_data)"
   ]
  },
  {
   "cell_type": "markdown",
   "id": "d57971a1-73b2-4bad-b21e-587c4445249a",
   "metadata": {
    "tags": []
   },
   "source": [
    "### 5.2 Exploratory Data Analysis\n",
    "---"
   ]
  },
  {
   "cell_type": "markdown",
   "id": "202aa1d0-2cca-4274-b8d4-65549b626dce",
   "metadata": {
    "tags": []
   },
   "source": [
    "#### Chi-Square Test\n",
    "\n",
    "**Since Most of the data is categorical we will use chi-squared test to show the relationship between the features and the trarget**\n",
    "\n",
    "The chi-squre test shows the relationship between two categorical variables.\n",
    "\n",
    "If the p-value < 0.05 the null hypothesis is rejected that the two variables are independent and concludes that there is evidence of association between the variables"
   ]
  },
  {
   "cell_type": "code",
   "execution_count": 96,
   "id": "8dbd9335-e17c-4844-9cfa-fc69e07c08dd",
   "metadata": {
    "tags": []
   },
   "outputs": [
    {
     "data": {
      "text/html": [
       "<div>\n",
       "<style scoped>\n",
       "    .dataframe tbody tr th:only-of-type {\n",
       "        vertical-align: middle;\n",
       "    }\n",
       "\n",
       "    .dataframe tbody tr th {\n",
       "        vertical-align: top;\n",
       "    }\n",
       "\n",
       "    .dataframe thead th {\n",
       "        text-align: right;\n",
       "    }\n",
       "</style>\n",
       "<table border=\"1\" class=\"dataframe\">\n",
       "  <thead>\n",
       "    <tr style=\"text-align: right;\">\n",
       "      <th></th>\n",
       "      <th>HomePlanet</th>\n",
       "      <th>CryoSleep</th>\n",
       "      <th>Destination</th>\n",
       "      <th>Age</th>\n",
       "      <th>VIP</th>\n",
       "      <th>Transported</th>\n",
       "      <th>cabin_deck</th>\n",
       "      <th>cabin_side</th>\n",
       "      <th>total_amenities</th>\n",
       "    </tr>\n",
       "  </thead>\n",
       "  <tbody>\n",
       "    <tr>\n",
       "      <th>0</th>\n",
       "      <td>Europa</td>\n",
       "      <td>False</td>\n",
       "      <td>TRAPPIST-1e</td>\n",
       "      <td>young</td>\n",
       "      <td>False</td>\n",
       "      <td>False</td>\n",
       "      <td>B</td>\n",
       "      <td>P</td>\n",
       "      <td>0.0</td>\n",
       "    </tr>\n",
       "    <tr>\n",
       "      <th>1</th>\n",
       "      <td>Earth</td>\n",
       "      <td>False</td>\n",
       "      <td>TRAPPIST-1e</td>\n",
       "      <td>young</td>\n",
       "      <td>False</td>\n",
       "      <td>True</td>\n",
       "      <td>F</td>\n",
       "      <td>S</td>\n",
       "      <td>736.0</td>\n",
       "    </tr>\n",
       "    <tr>\n",
       "      <th>2</th>\n",
       "      <td>Europa</td>\n",
       "      <td>False</td>\n",
       "      <td>TRAPPIST-1e</td>\n",
       "      <td>old</td>\n",
       "      <td>True</td>\n",
       "      <td>False</td>\n",
       "      <td>A</td>\n",
       "      <td>S</td>\n",
       "      <td>10383.0</td>\n",
       "    </tr>\n",
       "    <tr>\n",
       "      <th>3</th>\n",
       "      <td>Europa</td>\n",
       "      <td>False</td>\n",
       "      <td>TRAPPIST-1e</td>\n",
       "      <td>young</td>\n",
       "      <td>False</td>\n",
       "      <td>False</td>\n",
       "      <td>A</td>\n",
       "      <td>S</td>\n",
       "      <td>5176.0</td>\n",
       "    </tr>\n",
       "    <tr>\n",
       "      <th>4</th>\n",
       "      <td>Earth</td>\n",
       "      <td>False</td>\n",
       "      <td>TRAPPIST-1e</td>\n",
       "      <td>young</td>\n",
       "      <td>False</td>\n",
       "      <td>True</td>\n",
       "      <td>F</td>\n",
       "      <td>S</td>\n",
       "      <td>1091.0</td>\n",
       "    </tr>\n",
       "  </tbody>\n",
       "</table>\n",
       "</div>"
      ],
      "text/plain": [
       "  HomePlanet  CryoSleep  Destination    Age    VIP  Transported cabin_deck  \\\n",
       "0     Europa      False  TRAPPIST-1e  young  False        False          B   \n",
       "1      Earth      False  TRAPPIST-1e  young  False         True          F   \n",
       "2     Europa      False  TRAPPIST-1e    old   True        False          A   \n",
       "3     Europa      False  TRAPPIST-1e  young  False        False          A   \n",
       "4      Earth      False  TRAPPIST-1e  young  False         True          F   \n",
       "\n",
       "  cabin_side  total_amenities  \n",
       "0          P              0.0  \n",
       "1          S            736.0  \n",
       "2          S          10383.0  \n",
       "3          S           5176.0  \n",
       "4          S           1091.0  "
      ]
     },
     "execution_count": 96,
     "metadata": {},
     "output_type": "execute_result"
    }
   ],
   "source": [
    "fe_train_data.head()"
   ]
  },
  {
   "cell_type": "markdown",
   "id": "c48b088f-6f4f-4a59-90d9-df698b7803d1",
   "metadata": {},
   "source": [
    "**Home Planet Chi-Square Test**"
   ]
  },
  {
   "cell_type": "code",
   "execution_count": 123,
   "id": "7828101c-f9e8-4955-9eee-ee533c6b6bfc",
   "metadata": {
    "tags": []
   },
   "outputs": [
    {
     "name": "stdout",
     "output_type": "stream",
     "text": [
      "The p_value is  5.549631517016863e-70 There is evidence of association between the variables\n"
     ]
    }
   ],
   "source": [
    "\n",
    "hp_cont_table = pd.crosstab(fe_train_data['HomePlanet'], fe_train_data['Transported'])\n",
    "hp_p_value = stats.chi2_contingency(hp_cont_table, correction=True)[1]\n",
    "\n",
    "if hp_p_value < 0.05:\n",
    "    print('The p_value is ', hp_p_value, 'There is evidence of association between the variables')\n",
    "else:\n",
    "    print('The p_value is ', hp_p_value, 'There is no evidence of association between the variables')    "
   ]
  },
  {
   "cell_type": "markdown",
   "id": "d977ab09-f017-44c9-8cb9-7993f524a788",
   "metadata": {},
   "source": [
    "**CryoSleep Chi-Square Test**"
   ]
  },
  {
   "cell_type": "code",
   "execution_count": 125,
   "id": "4dee4bd3-18a8-4b7f-98fe-c0c403d0f195",
   "metadata": {
    "tags": []
   },
   "outputs": [
    {
     "name": "stdout",
     "output_type": "stream",
     "text": [
      "The p_value is  0.0 There is evidence of association between the variables\n"
     ]
    }
   ],
   "source": [
    "cs_cont_table = pd.crosstab(fe_train_data['CryoSleep'], fe_train_data['Transported'])\n",
    "cs_p_value = stats.chi2_contingency(cs_cont_table, correction=True)[1]\n",
    "\n",
    "if cs_p_value < 0.05:\n",
    "    print('The p_value is ', cs_p_value, 'There is evidence of association between the variables')\n",
    "else:\n",
    "    print('The p_value is ', cs_p_value, 'There is no evidence of association between the variables') "
   ]
  },
  {
   "cell_type": "markdown",
   "id": "4da6242a-10a1-4580-a456-0a3ee93ebeb6",
   "metadata": {},
   "source": [
    "**Destination Chi-Square Test**"
   ]
  },
  {
   "cell_type": "code",
   "execution_count": 127,
   "id": "08dc3812-911c-4735-ae9b-ac42f65f8c31",
   "metadata": {
    "tags": []
   },
   "outputs": [
    {
     "name": "stdout",
     "output_type": "stream",
     "text": [
      "The p_value is  1.1947894351445014e-23 There is evidence of association between the variables\n"
     ]
    }
   ],
   "source": [
    "d_cont_table = pd.crosstab(fe_train_data['Destination'], fe_train_data['Transported'])\n",
    "d_p_value = stats.chi2_contingency(d_cont_table, correction=True)[1]\n",
    "\n",
    "if d_p_value < 0.05:\n",
    "    print('The p_value is ', d_p_value, 'There is evidence of association between the variables')\n",
    "else:\n",
    "    print('The p_value is ', d_p_value, 'There is no evidence of association between the variables') "
   ]
  },
  {
   "cell_type": "markdown",
   "id": "385472d1-fd63-4e73-9b2d-e12f57dc4ea1",
   "metadata": {},
   "source": [
    "**Age Chi-Square Test**"
   ]
  },
  {
   "cell_type": "code",
   "execution_count": 128,
   "id": "2d608556-5ef7-4855-87b3-3948be82b114",
   "metadata": {
    "tags": []
   },
   "outputs": [
    {
     "name": "stdout",
     "output_type": "stream",
     "text": [
      "The p_value is  0.5743217143672246 There is no evidence of association between the variables\n"
     ]
    }
   ],
   "source": [
    "ag_cont_table = pd.crosstab(fe_train_data['Age'], fe_train_data['Transported'])\n",
    "ag_p_value = stats.chi2_contingency(ag_cont_table, correction=True)[1]\n",
    "\n",
    "if ag_p_value < 0.05:\n",
    "    print('The p_value is ', ag_p_value, 'There is evidence of association between the variables')\n",
    "else:\n",
    "    print('The p_value is ', ag_p_value, 'There is no evidence of association between the variables') "
   ]
  },
  {
   "cell_type": "markdown",
   "id": "83c27e18-f8fe-4ddf-ae39-b159083af443",
   "metadata": {},
   "source": [
    "**VIP Chi-Square Test**"
   ]
  },
  {
   "cell_type": "code",
   "execution_count": 129,
   "id": "8bdfd62b-496b-4e5b-85d3-31ad5fd6470a",
   "metadata": {
    "tags": []
   },
   "outputs": [
    {
     "name": "stdout",
     "output_type": "stream",
     "text": [
      "The p_value is  0.0006681023600149099 There is evidence of association between the variables\n"
     ]
    }
   ],
   "source": [
    "vip_cont_table = pd.crosstab(fe_train_data['VIP'], fe_train_data['Transported'])\n",
    "vip_p_value = stats.chi2_contingency(vip_cont_table, correction=True)[1]\n",
    "\n",
    "if vip_p_value < 0.05:\n",
    "    print('The p_value is ', vip_p_value, 'There is evidence of association between the variables')\n",
    "else:\n",
    "    print('The p_value is ', vip_p_value, 'There is no evidence of association between the variables') "
   ]
  },
  {
   "cell_type": "markdown",
   "id": "9f193894-4293-47e7-b90a-eda4f927ff1d",
   "metadata": {},
   "source": [
    "**Cabin Deck Chi-Square Test**"
   ]
  },
  {
   "cell_type": "code",
   "execution_count": 130,
   "id": "d1e94469-59ea-484f-895e-e2a6c7b20a32",
   "metadata": {
    "tags": []
   },
   "outputs": [
    {
     "name": "stdout",
     "output_type": "stream",
     "text": [
      "The p_value is  8.352488438720223e-80 There is evidence of association between the variables\n"
     ]
    }
   ],
   "source": [
    "cd_cont_table = pd.crosstab(fe_train_data['cabin_deck'], fe_train_data['Transported'])\n",
    "cd_p_value = stats.chi2_contingency(cd_cont_table, correction=True)[1]\n",
    "\n",
    "if cd_p_value < 0.05:\n",
    "    print('The p_value is ', cd_p_value, 'There is evidence of association between the variables')\n",
    "else:\n",
    "    print('The p_value is ', cd_p_value, 'There is no evidence of association between the variables') "
   ]
  },
  {
   "cell_type": "markdown",
   "id": "bbdd8ea5-752c-47c8-b881-a8342d6f847b",
   "metadata": {},
   "source": [
    "**Cabin Side Chi-Square Test**"
   ]
  },
  {
   "cell_type": "code",
   "execution_count": 131,
   "id": "053f09a6-ba77-4486-85fb-3330dbbbb461",
   "metadata": {
    "tags": []
   },
   "outputs": [
    {
     "name": "stdout",
     "output_type": "stream",
     "text": [
      "The p_value is  1.3690336728997533e-20 There is evidence of association between the variables\n"
     ]
    }
   ],
   "source": [
    "cs_cont_table = pd.crosstab(fe_train_data['cabin_side'], fe_train_data['Transported'])\n",
    "cs_p_value = stats.chi2_contingency(cs_cont_table, correction=True)[1]\n",
    "\n",
    "if cs_p_value < 0.05:\n",
    "    print('The p_value is ', cs_p_value, 'There is evidence of association between the variables')\n",
    "else:\n",
    "    print('The p_value is ', cs_p_value, 'There is no evidence of association between the variables') "
   ]
  },
  {
   "cell_type": "markdown",
   "id": "065975f9-1781-40d7-9dfa-2331d058ab47",
   "metadata": {},
   "source": [
    "**Total Amenities Box Plot**"
   ]
  },
  {
   "cell_type": "code",
   "execution_count": 133,
   "id": "fe721690-d8e7-4256-a432-2d6a4bddd6f0",
   "metadata": {
    "tags": []
   },
   "outputs": [
    {
     "data": {
      "text/plain": [
       "Text(0.5, 1.0, 'Relationship Between Total Amount Spent on Amenities and Transported')"
      ]
     },
     "execution_count": 133,
     "metadata": {},
     "output_type": "execute_result"
    },
    {
     "data": {
      "image/png": "[encoded data removed]",
      "text/plain": [
       "<Figure size 640x480 with 1 Axes>"
      ]
     },
     "metadata": {},
     "output_type": "display_data"
    }
   ],
   "source": [
    "sns.boxplot(x='Transported', y='total_amenities', data = fe_train_data)\n",
    "plt.title('Relationship Between Total Amount Spent on Amenities and Transported')"
   ]
  },
  {
   "cell_type": "markdown",
   "id": "a6c0c671-7a9d-4412-bf30-19ff4ca105f1",
   "metadata": {},
   "source": [
    "The above box plot shows that there is a relationship between total ammenities and Transported.\n",
    "\n",
    "---"
   ]
  },
  {
   "cell_type": "markdown",
   "id": "9859176d-44e5-4277-bce5-858f84ead213",
   "metadata": {
    "tags": []
   },
   "source": [
    "### 5.3 Feature Engineering Part 2\n",
    "---\n",
    "\n",
    "In this part 2 we will do:\n",
    "\n",
    "+ Dropping the Age column\n",
    "\n",
    "+ One-hot encoding"
   ]
  },
  {
   "cell_type": "markdown",
   "id": "ea7890b4-308b-4e15-a31f-e953dcd768ac",
   "metadata": {},
   "source": [
    "**Droping Age Column**"
   ]
  },
  {
   "cell_type": "code",
   "execution_count": 143,
   "id": "324cda03-433d-4c6c-bd7b-1832a26e36bd",
   "metadata": {
    "tags": []
   },
   "outputs": [],
   "source": [
    "fe_train_data.drop('Age', axis=1, inplace=True)\n",
    "fe_test_data.drop('Age', axis=1, inplace=True)"
   ]
  },
  {
   "cell_type": "code",
   "execution_count": 145,
   "id": "6d2fa84d-bd45-494b-919f-35e7efddd6f0",
   "metadata": {
    "tags": []
   },
   "outputs": [
    {
     "data": {
      "text/plain": [
       "Index(['HomePlanet', 'CryoSleep', 'Destination', 'VIP', 'Transported',\n",
       "       'cabin_deck', 'cabin_side', 'total_amenities'],\n",
       "      dtype='object')"
      ]
     },
     "execution_count": 145,
     "metadata": {},
     "output_type": "execute_result"
    }
   ],
   "source": [
    "fe_train_data.columns"
   ]
  },
  {
   "cell_type": "markdown",
   "id": "39458a8d-8455-442f-8e17-b205d21145bf",
   "metadata": {
    "tags": []
   },
   "source": [
    "**One-hot Encoding**"
   ]
  },
  {
   "cell_type": "code",
   "execution_count": 146,
   "id": "665fd2bc-87e7-4ce6-9eac-df08c0617b53",
   "metadata": {
    "tags": []
   },
   "outputs": [],
   "source": [
    "def one_hot_fun(df):\n",
    "    hp_dum = pd.get_dummies(df['HomePlanet'], prefix='home_planet')\n",
    "    cr_dum = pd.get_dummies(df['CryoSleep'], prefix='cryo_sleep')   \n",
    "    ds_dum = pd.get_dummies(df['Destination'], prefix='destination')    \n",
    "    vip_dum = pd.get_dummies(df['VIP'], prefix='vip')   \n",
    "    cd_dum = pd.get_dummies(df['cabin_deck'], prefix='cabin_deck') \n",
    "    cs_dum = pd.get_dummies(df['cabin_side'], prefix='cabin_side')\n",
    "\n",
    "    df = pd.concat([df, hp_dum, cr_dum, ds_dum, vip_dum, cd_dum, cs_dum], axis=1)\n",
    "    \n",
    "    df.drop(['HomePlanet', 'CryoSleep', 'Destination', 'VIP', 'cabin_deck', 'cabin_side'],axis=1, inplace=True)\n",
    "    \n",
    "    return df"
   ]
  },
  {
   "cell_type": "code",
   "execution_count": 147,
   "id": "61a08405-8287-489c-b597-a1494da0a171",
   "metadata": {
    "tags": []
   },
   "outputs": [],
   "source": [
    "fe_train_data = one_hot_fun(fe_train_data)\n",
    "fe_test_data = one_hot_fun(fe_test_data)"
   ]
  },
  {
   "cell_type": "code",
   "execution_count": 148,
   "id": "5c85141b-a66b-46b1-9270-65aab79f813a",
   "metadata": {
    "tags": []
   },
   "outputs": [
    {
     "data": {
      "text/html": [
       "<div>\n",
       "<style scoped>\n",
       "    .dataframe tbody tr th:only-of-type {\n",
       "        vertical-align: middle;\n",
       "    }\n",
       "\n",
       "    .dataframe tbody tr th {\n",
       "        vertical-align: top;\n",
       "    }\n",
       "\n",
       "    .dataframe thead th {\n",
       "        text-align: right;\n",
       "    }\n",
       "</style>\n",
       "<table border=\"1\" class=\"dataframe\">\n",
       "  <thead>\n",
       "    <tr style=\"text-align: right;\">\n",
       "      <th></th>\n",
       "      <th>Transported</th>\n",
       "      <th>total_amenities</th>\n",
       "      <th>home_planet_Earth</th>\n",
       "      <th>home_planet_Europa</th>\n",
       "      <th>home_planet_Mars</th>\n",
       "      <th>cryo_sleep_False</th>\n",
       "      <th>cryo_sleep_True</th>\n",
       "      <th>destination_55 Cancri e</th>\n",
       "      <th>destination_PSO J318.5-22</th>\n",
       "      <th>destination_TRAPPIST-1e</th>\n",
       "      <th>...</th>\n",
       "      <th>cabin_deck_B</th>\n",
       "      <th>cabin_deck_C</th>\n",
       "      <th>cabin_deck_D</th>\n",
       "      <th>cabin_deck_E</th>\n",
       "      <th>cabin_deck_F</th>\n",
       "      <th>cabin_deck_G</th>\n",
       "      <th>cabin_deck_T</th>\n",
       "      <th>cabin_side_0</th>\n",
       "      <th>cabin_side_P</th>\n",
       "      <th>cabin_side_S</th>\n",
       "    </tr>\n",
       "  </thead>\n",
       "  <tbody>\n",
       "    <tr>\n",
       "      <th>0</th>\n",
       "      <td>False</td>\n",
       "      <td>0.0</td>\n",
       "      <td>0</td>\n",
       "      <td>1</td>\n",
       "      <td>0</td>\n",
       "      <td>1</td>\n",
       "      <td>0</td>\n",
       "      <td>0</td>\n",
       "      <td>0</td>\n",
       "      <td>1</td>\n",
       "      <td>...</td>\n",
       "      <td>1</td>\n",
       "      <td>0</td>\n",
       "      <td>0</td>\n",
       "      <td>0</td>\n",
       "      <td>0</td>\n",
       "      <td>0</td>\n",
       "      <td>0</td>\n",
       "      <td>0</td>\n",
       "      <td>1</td>\n",
       "      <td>0</td>\n",
       "    </tr>\n",
       "    <tr>\n",
       "      <th>1</th>\n",
       "      <td>True</td>\n",
       "      <td>736.0</td>\n",
       "      <td>1</td>\n",
       "      <td>0</td>\n",
       "      <td>0</td>\n",
       "      <td>1</td>\n",
       "      <td>0</td>\n",
       "      <td>0</td>\n",
       "      <td>0</td>\n",
       "      <td>1</td>\n",
       "      <td>...</td>\n",
       "      <td>0</td>\n",
       "      <td>0</td>\n",
       "      <td>0</td>\n",
       "      <td>0</td>\n",
       "      <td>1</td>\n",
       "      <td>0</td>\n",
       "      <td>0</td>\n",
       "      <td>0</td>\n",
       "      <td>0</td>\n",
       "      <td>1</td>\n",
       "    </tr>\n",
       "    <tr>\n",
       "      <th>2</th>\n",
       "      <td>False</td>\n",
       "      <td>10383.0</td>\n",
       "      <td>0</td>\n",
       "      <td>1</td>\n",
       "      <td>0</td>\n",
       "      <td>1</td>\n",
       "      <td>0</td>\n",
       "      <td>0</td>\n",
       "      <td>0</td>\n",
       "      <td>1</td>\n",
       "      <td>...</td>\n",
       "      <td>0</td>\n",
       "      <td>0</td>\n",
       "      <td>0</td>\n",
       "      <td>0</td>\n",
       "      <td>0</td>\n",
       "      <td>0</td>\n",
       "      <td>0</td>\n",
       "      <td>0</td>\n",
       "      <td>0</td>\n",
       "      <td>1</td>\n",
       "    </tr>\n",
       "    <tr>\n",
       "      <th>3</th>\n",
       "      <td>False</td>\n",
       "      <td>5176.0</td>\n",
       "      <td>0</td>\n",
       "      <td>1</td>\n",
       "      <td>0</td>\n",
       "      <td>1</td>\n",
       "      <td>0</td>\n",
       "      <td>0</td>\n",
       "      <td>0</td>\n",
       "      <td>1</td>\n",
       "      <td>...</td>\n",
       "      <td>0</td>\n",
       "      <td>0</td>\n",
       "      <td>0</td>\n",
       "      <td>0</td>\n",
       "      <td>0</td>\n",
       "      <td>0</td>\n",
       "      <td>0</td>\n",
       "      <td>0</td>\n",
       "      <td>0</td>\n",
       "      <td>1</td>\n",
       "    </tr>\n",
       "    <tr>\n",
       "      <th>4</th>\n",
       "      <td>True</td>\n",
       "      <td>1091.0</td>\n",
       "      <td>1</td>\n",
       "      <td>0</td>\n",
       "      <td>0</td>\n",
       "      <td>1</td>\n",
       "      <td>0</td>\n",
       "      <td>0</td>\n",
       "      <td>0</td>\n",
       "      <td>1</td>\n",
       "      <td>...</td>\n",
       "      <td>0</td>\n",
       "      <td>0</td>\n",
       "      <td>0</td>\n",
       "      <td>0</td>\n",
       "      <td>1</td>\n",
       "      <td>0</td>\n",
       "      <td>0</td>\n",
       "      <td>0</td>\n",
       "      <td>0</td>\n",
       "      <td>1</td>\n",
       "    </tr>\n",
       "  </tbody>\n",
       "</table>\n",
       "<p>5 rows × 24 columns</p>\n",
       "</div>"
      ],
      "text/plain": [
       "   Transported  total_amenities  home_planet_Earth  home_planet_Europa  \\\n",
       "0        False              0.0                  0                   1   \n",
       "1         True            736.0                  1                   0   \n",
       "2        False          10383.0                  0                   1   \n",
       "3        False           5176.0                  0                   1   \n",
       "4         True           1091.0                  1                   0   \n",
       "\n",
       "   home_planet_Mars  cryo_sleep_False  cryo_sleep_True  \\\n",
       "0                 0                 1                0   \n",
       "1                 0                 1                0   \n",
       "2                 0                 1                0   \n",
       "3                 0                 1                0   \n",
       "4                 0                 1                0   \n",
       "\n",
       "   destination_55 Cancri e  destination_PSO J318.5-22  \\\n",
       "0                        0                          0   \n",
       "1                        0                          0   \n",
       "2                        0                          0   \n",
       "3                        0                          0   \n",
       "4                        0                          0   \n",
       "\n",
       "   destination_TRAPPIST-1e  ...  cabin_deck_B  cabin_deck_C  cabin_deck_D  \\\n",
       "0                        1  ...             1             0             0   \n",
       "1                        1  ...             0             0             0   \n",
       "2                        1  ...             0             0             0   \n",
       "3                        1  ...             0             0             0   \n",
       "4                        1  ...             0             0             0   \n",
       "\n",
       "   cabin_deck_E  cabin_deck_F  cabin_deck_G  cabin_deck_T  cabin_side_0  \\\n",
       "0             0             0             0             0             0   \n",
       "1             0             1             0             0             0   \n",
       "2             0             0             0             0             0   \n",
       "3             0             0             0             0             0   \n",
       "4             0             1             0             0             0   \n",
       "\n",
       "   cabin_side_P  cabin_side_S  \n",
       "0             1             0  \n",
       "1             0             1  \n",
       "2             0             1  \n",
       "3             0             1  \n",
       "4             0             1  \n",
       "\n",
       "[5 rows x 24 columns]"
      ]
     },
     "execution_count": 148,
     "metadata": {},
     "output_type": "execute_result"
    }
   ],
   "source": [
    "fe_train_data.head()"
   ]
  },
  {
   "cell_type": "code",
   "execution_count": 149,
   "id": "6de2be9c-2b9d-48bd-bd0d-294307bfd549",
   "metadata": {
    "tags": []
   },
   "outputs": [
    {
     "data": {
      "text/html": [
       "<div>\n",
       "<style scoped>\n",
       "    .dataframe tbody tr th:only-of-type {\n",
       "        vertical-align: middle;\n",
       "    }\n",
       "\n",
       "    .dataframe tbody tr th {\n",
       "        vertical-align: top;\n",
       "    }\n",
       "\n",
       "    .dataframe thead th {\n",
       "        text-align: right;\n",
       "    }\n",
       "</style>\n",
       "<table border=\"1\" class=\"dataframe\">\n",
       "  <thead>\n",
       "    <tr style=\"text-align: right;\">\n",
       "      <th></th>\n",
       "      <th>total_amenities</th>\n",
       "      <th>home_planet_Earth</th>\n",
       "      <th>home_planet_Europa</th>\n",
       "      <th>home_planet_Mars</th>\n",
       "      <th>cryo_sleep_False</th>\n",
       "      <th>cryo_sleep_True</th>\n",
       "      <th>destination_55 Cancri e</th>\n",
       "      <th>destination_PSO J318.5-22</th>\n",
       "      <th>destination_TRAPPIST-1e</th>\n",
       "      <th>vip_False</th>\n",
       "      <th>...</th>\n",
       "      <th>cabin_deck_B</th>\n",
       "      <th>cabin_deck_C</th>\n",
       "      <th>cabin_deck_D</th>\n",
       "      <th>cabin_deck_E</th>\n",
       "      <th>cabin_deck_F</th>\n",
       "      <th>cabin_deck_G</th>\n",
       "      <th>cabin_deck_T</th>\n",
       "      <th>cabin_side_0</th>\n",
       "      <th>cabin_side_P</th>\n",
       "      <th>cabin_side_S</th>\n",
       "    </tr>\n",
       "  </thead>\n",
       "  <tbody>\n",
       "    <tr>\n",
       "      <th>0</th>\n",
       "      <td>0.0</td>\n",
       "      <td>1</td>\n",
       "      <td>0</td>\n",
       "      <td>0</td>\n",
       "      <td>0</td>\n",
       "      <td>1</td>\n",
       "      <td>0</td>\n",
       "      <td>0</td>\n",
       "      <td>1</td>\n",
       "      <td>1</td>\n",
       "      <td>...</td>\n",
       "      <td>0</td>\n",
       "      <td>0</td>\n",
       "      <td>0</td>\n",
       "      <td>0</td>\n",
       "      <td>0</td>\n",
       "      <td>1</td>\n",
       "      <td>0</td>\n",
       "      <td>0</td>\n",
       "      <td>0</td>\n",
       "      <td>1</td>\n",
       "    </tr>\n",
       "    <tr>\n",
       "      <th>1</th>\n",
       "      <td>2832.0</td>\n",
       "      <td>1</td>\n",
       "      <td>0</td>\n",
       "      <td>0</td>\n",
       "      <td>1</td>\n",
       "      <td>0</td>\n",
       "      <td>0</td>\n",
       "      <td>0</td>\n",
       "      <td>1</td>\n",
       "      <td>1</td>\n",
       "      <td>...</td>\n",
       "      <td>0</td>\n",
       "      <td>0</td>\n",
       "      <td>0</td>\n",
       "      <td>0</td>\n",
       "      <td>1</td>\n",
       "      <td>0</td>\n",
       "      <td>0</td>\n",
       "      <td>0</td>\n",
       "      <td>0</td>\n",
       "      <td>1</td>\n",
       "    </tr>\n",
       "    <tr>\n",
       "      <th>2</th>\n",
       "      <td>0.0</td>\n",
       "      <td>0</td>\n",
       "      <td>1</td>\n",
       "      <td>0</td>\n",
       "      <td>0</td>\n",
       "      <td>1</td>\n",
       "      <td>1</td>\n",
       "      <td>0</td>\n",
       "      <td>0</td>\n",
       "      <td>1</td>\n",
       "      <td>...</td>\n",
       "      <td>0</td>\n",
       "      <td>1</td>\n",
       "      <td>0</td>\n",
       "      <td>0</td>\n",
       "      <td>0</td>\n",
       "      <td>0</td>\n",
       "      <td>0</td>\n",
       "      <td>0</td>\n",
       "      <td>0</td>\n",
       "      <td>1</td>\n",
       "    </tr>\n",
       "    <tr>\n",
       "      <th>3</th>\n",
       "      <td>7418.0</td>\n",
       "      <td>0</td>\n",
       "      <td>1</td>\n",
       "      <td>0</td>\n",
       "      <td>1</td>\n",
       "      <td>0</td>\n",
       "      <td>0</td>\n",
       "      <td>0</td>\n",
       "      <td>1</td>\n",
       "      <td>1</td>\n",
       "      <td>...</td>\n",
       "      <td>0</td>\n",
       "      <td>1</td>\n",
       "      <td>0</td>\n",
       "      <td>0</td>\n",
       "      <td>0</td>\n",
       "      <td>0</td>\n",
       "      <td>0</td>\n",
       "      <td>0</td>\n",
       "      <td>0</td>\n",
       "      <td>1</td>\n",
       "    </tr>\n",
       "    <tr>\n",
       "      <th>4</th>\n",
       "      <td>645.0</td>\n",
       "      <td>1</td>\n",
       "      <td>0</td>\n",
       "      <td>0</td>\n",
       "      <td>1</td>\n",
       "      <td>0</td>\n",
       "      <td>0</td>\n",
       "      <td>0</td>\n",
       "      <td>1</td>\n",
       "      <td>1</td>\n",
       "      <td>...</td>\n",
       "      <td>0</td>\n",
       "      <td>0</td>\n",
       "      <td>0</td>\n",
       "      <td>0</td>\n",
       "      <td>1</td>\n",
       "      <td>0</td>\n",
       "      <td>0</td>\n",
       "      <td>0</td>\n",
       "      <td>0</td>\n",
       "      <td>1</td>\n",
       "    </tr>\n",
       "  </tbody>\n",
       "</table>\n",
       "<p>5 rows × 23 columns</p>\n",
       "</div>"
      ],
      "text/plain": [
       "   total_amenities  home_planet_Earth  home_planet_Europa  home_planet_Mars  \\\n",
       "0              0.0                  1                   0                 0   \n",
       "1           2832.0                  1                   0                 0   \n",
       "2              0.0                  0                   1                 0   \n",
       "3           7418.0                  0                   1                 0   \n",
       "4            645.0                  1                   0                 0   \n",
       "\n",
       "   cryo_sleep_False  cryo_sleep_True  destination_55 Cancri e  \\\n",
       "0                 0                1                        0   \n",
       "1                 1                0                        0   \n",
       "2                 0                1                        1   \n",
       "3                 1                0                        0   \n",
       "4                 1                0                        0   \n",
       "\n",
       "   destination_PSO J318.5-22  destination_TRAPPIST-1e  vip_False  ...  \\\n",
       "0                          0                        1          1  ...   \n",
       "1                          0                        1          1  ...   \n",
       "2                          0                        0          1  ...   \n",
       "3                          0                        1          1  ...   \n",
       "4                          0                        1          1  ...   \n",
       "\n",
       "   cabin_deck_B  cabin_deck_C  cabin_deck_D  cabin_deck_E  cabin_deck_F  \\\n",
       "0             0             0             0             0             0   \n",
       "1             0             0             0             0             1   \n",
       "2             0             1             0             0             0   \n",
       "3             0             1             0             0             0   \n",
       "4             0             0             0             0             1   \n",
       "\n",
       "   cabin_deck_G  cabin_deck_T  cabin_side_0  cabin_side_P  cabin_side_S  \n",
       "0             1             0             0             0             1  \n",
       "1             0             0             0             0             1  \n",
       "2             0             0             0             0             1  \n",
       "3             0             0             0             0             1  \n",
       "4             0             0             0             0             1  \n",
       "\n",
       "[5 rows x 23 columns]"
      ]
     },
     "execution_count": 149,
     "metadata": {},
     "output_type": "execute_result"
    }
   ],
   "source": [
    "fe_test_data.head()"
   ]
  },
  {
   "cell_type": "code",
   "execution_count": 150,
   "id": "1e3e8882-a8ca-4fa4-b284-04736a124cac",
   "metadata": {
    "tags": []
   },
   "outputs": [
    {
     "name": "stdout",
     "output_type": "stream",
     "text": [
      "<class 'pandas.core.frame.DataFrame'>\n",
      "RangeIndex: 8693 entries, 0 to 8692\n",
      "Data columns (total 24 columns):\n",
      " #   Column                     Non-Null Count  Dtype  \n",
      "---  ------                     --------------  -----  \n",
      " 0   Transported                8693 non-null   bool   \n",
      " 1   total_amenities            8693 non-null   float64\n",
      " 2   home_planet_Earth          8693 non-null   uint8  \n",
      " 3   home_planet_Europa         8693 non-null   uint8  \n",
      " 4   home_planet_Mars           8693 non-null   uint8  \n",
      " 5   cryo_sleep_False           8693 non-null   uint8  \n",
      " 6   cryo_sleep_True            8693 non-null   uint8  \n",
      " 7   destination_55 Cancri e    8693 non-null   uint8  \n",
      " 8   destination_PSO J318.5-22  8693 non-null   uint8  \n",
      " 9   destination_TRAPPIST-1e    8693 non-null   uint8  \n",
      " 10  vip_False                  8693 non-null   uint8  \n",
      " 11  vip_True                   8693 non-null   uint8  \n",
      " 12  cabin_deck_0               8693 non-null   uint8  \n",
      " 13  cabin_deck_A               8693 non-null   uint8  \n",
      " 14  cabin_deck_B               8693 non-null   uint8  \n",
      " 15  cabin_deck_C               8693 non-null   uint8  \n",
      " 16  cabin_deck_D               8693 non-null   uint8  \n",
      " 17  cabin_deck_E               8693 non-null   uint8  \n",
      " 18  cabin_deck_F               8693 non-null   uint8  \n",
      " 19  cabin_deck_G               8693 non-null   uint8  \n",
      " 20  cabin_deck_T               8693 non-null   uint8  \n",
      " 21  cabin_side_0               8693 non-null   uint8  \n",
      " 22  cabin_side_P               8693 non-null   uint8  \n",
      " 23  cabin_side_S               8693 non-null   uint8  \n",
      "dtypes: bool(1), float64(1), uint8(22)\n",
      "memory usage: 263.3 KB\n"
     ]
    }
   ],
   "source": [
    "fe_train_data.info()"
   ]
  },
  {
   "cell_type": "code",
   "execution_count": 151,
   "id": "9b0cc02c-3540-4c74-9aea-9eb7411f2d88",
   "metadata": {
    "tags": []
   },
   "outputs": [
    {
     "name": "stdout",
     "output_type": "stream",
     "text": [
      "<class 'pandas.core.frame.DataFrame'>\n",
      "RangeIndex: 4277 entries, 0 to 4276\n",
      "Data columns (total 23 columns):\n",
      " #   Column                     Non-Null Count  Dtype  \n",
      "---  ------                     --------------  -----  \n",
      " 0   total_amenities            4277 non-null   float64\n",
      " 1   home_planet_Earth          4277 non-null   uint8  \n",
      " 2   home_planet_Europa         4277 non-null   uint8  \n",
      " 3   home_planet_Mars           4277 non-null   uint8  \n",
      " 4   cryo_sleep_False           4277 non-null   uint8  \n",
      " 5   cryo_sleep_True            4277 non-null   uint8  \n",
      " 6   destination_55 Cancri e    4277 non-null   uint8  \n",
      " 7   destination_PSO J318.5-22  4277 non-null   uint8  \n",
      " 8   destination_TRAPPIST-1e    4277 non-null   uint8  \n",
      " 9   vip_False                  4277 non-null   uint8  \n",
      " 10  vip_True                   4277 non-null   uint8  \n",
      " 11  cabin_deck_0               4277 non-null   uint8  \n",
      " 12  cabin_deck_A               4277 non-null   uint8  \n",
      " 13  cabin_deck_B               4277 non-null   uint8  \n",
      " 14  cabin_deck_C               4277 non-null   uint8  \n",
      " 15  cabin_deck_D               4277 non-null   uint8  \n",
      " 16  cabin_deck_E               4277 non-null   uint8  \n",
      " 17  cabin_deck_F               4277 non-null   uint8  \n",
      " 18  cabin_deck_G               4277 non-null   uint8  \n",
      " 19  cabin_deck_T               4277 non-null   uint8  \n",
      " 20  cabin_side_0               4277 non-null   uint8  \n",
      " 21  cabin_side_P               4277 non-null   uint8  \n",
      " 22  cabin_side_S               4277 non-null   uint8  \n",
      "dtypes: float64(1), uint8(22)\n",
      "memory usage: 125.4 KB\n"
     ]
    }
   ],
   "source": [
    "fe_test_data.info()"
   ]
  },
  {
   "cell_type": "markdown",
   "id": "374d62dc-5c70-47cf-bb37-e71529dde3f2",
   "metadata": {},
   "source": [
    "## STEP 6: Model Selection, Evaluation and Refinement\n",
    "---\n",
    "I will be using the following models:\n",
    "\n",
    "1. RandomForestClassifier\n",
    "\n",
    "2. XGBClassifier\n",
    "\n",
    "The models will be evaluated using Confusion matrix and F1 score"
   ]
  },
  {
   "cell_type": "code",
   "execution_count": null,
   "id": "309a1f07-b043-4e2e-9fd4-8a1712b03d7a",
   "metadata": {},
   "outputs": [],
   "source": []
  },
  {
   "cell_type": "code",
   "execution_count": null,
   "id": "0bd39cf9-27d3-44b0-8f2c-3448b60e3c5a",
   "metadata": {},
   "outputs": [],
   "source": []
  },
  {
   "cell_type": "code",
   "execution_count": null,
   "id": "dc21a44a-1b3f-4216-b429-8626a5238f04",
   "metadata": {},
   "outputs": [],
   "source": []
  },
  {
   "cell_type": "code",
   "execution_count": null,
   "id": "770942be-0dbb-4c01-ba76-b7cb6044c3ee",
   "metadata": {},
   "outputs": [],
   "source": []
  },
  {
   "cell_type": "code",
   "execution_count": null,
   "id": "b0d0240b-3bb1-4aab-aeed-b7284a8c2e66",
   "metadata": {},
   "outputs": [],
   "source": []
  },
  {
   "cell_type": "code",
   "execution_count": null,
   "id": "08e86bbc-e707-4f86-93fd-daeac671703f",
   "metadata": {
    "tags": []
   },
   "outputs": [],
   "source": []
  },
  {
   "cell_type": "code",
   "execution_count": null,
   "id": "c959d467-543f-4444-a408-3f818c308339",
   "metadata": {
    "tags": []
   },
   "outputs": [],
   "source": []
  },
  {
   "cell_type": "code",
   "execution_count": null,
   "id": "ba6737c4-a0c8-48bc-84d6-7e8e7268f7ab",
   "metadata": {
    "tags": []
   },
   "outputs": [],
   "source": []
  },
  {
   "cell_type": "code",
   "execution_count": null,
   "id": "51d5690e-11c1-4370-834e-b75862762fc3",
   "metadata": {
    "tags": []
   },
   "outputs": [],
   "source": []
  },
  {
   "cell_type": "code",
   "execution_count": null,
   "id": "776fa1cc-6c9d-4c0d-b2e4-b3238b8f0c5c",
   "metadata": {
    "tags": []
   },
   "outputs": [],
   "source": []
  },
  {
   "cell_type": "code",
   "execution_count": null,
   "id": "6031620b-a452-42bc-9e15-6d43c0b02513",
   "metadata": {},
   "outputs": [],
   "source": []
  }
 ],
 "metadata": {
  "kernelspec": {
   "display_name": "Python 3 (ipykernel)",
   "language": "python",
   "name": "python3"
  },
  "language_info": {
   "codemirror_mode": {
    "name": "ipython",
    "version": 3
   },
   "file_extension": ".py",
   "mimetype": "text/x-python",
   "name": "python",
   "nbconvert_exporter": "python",
   "pygments_lexer": "ipython3",
   "version": "3.11.0"
  }
 },
 "nbformat": 4,
 "nbformat_minor": 5
}
